{
 "cells": [
  {
   "cell_type": "code",
   "execution_count": 1,
   "metadata": {
    "executionInfo": {
     "elapsed": 1728,
     "status": "ok",
     "timestamp": 1637753211661,
     "user": {
      "displayName": "Lackarsu Siri Verma",
      "photoUrl": "https://lh3.googleusercontent.com/a/default-user=s64",
      "userId": "01524574898192188774"
     },
     "user_tz": -330
    },
    "id": "vvmjqt1ESUZL"
   },
   "outputs": [],
   "source": [
    "import numpy as np \n",
    "import pandas as pd \n",
    "\n",
    "# For visualisation\n",
    "import matplotlib.pyplot as plt\n",
    "import seaborn as sns\n",
    "import plotly.express as px\n",
    "import plotly.graph_objs as go\n",
    "\n",
    "# For data preprocessing\n",
    "# !pip install geopy\n",
    "import time\n",
    "import geopy\n",
    "from geopy.geocoders import Nominatim\n",
    "from time import sleep\n",
    "from random import randint\n",
    "\n",
    "import folium\n",
    "from folium import Choropleth, Circle, Marker\n",
    "from folium.plugins import HeatMap, MarkerCluster"
   ]
  },
  {
   "cell_type": "markdown",
   "metadata": {
    "id": "yFWC1TyciRfc"
   },
   "source": [
    "# Data Pre-processing Stage-1: **Importing and Cleaning data**"
   ]
  },
  {
   "cell_type": "code",
   "execution_count": 2,
   "metadata": {
    "executionInfo": {
     "elapsed": 591,
     "status": "ok",
     "timestamp": 1637754714177,
     "user": {
      "displayName": "Lackarsu Siri Verma",
      "photoUrl": "https://lh3.googleusercontent.com/a/default-user=s64",
      "userId": "01524574898192188774"
     },
     "user_tz": -330
    },
    "id": "RoIDoGcSTNfz"
   },
   "outputs": [],
   "source": [
    "# Reading the files\n",
    "df_banglore = pd.read_csv('Bangalore.csv')\n",
    "df_chennai  = pd.read_csv('Chennai.csv')\n",
    "df_delhi    = pd.read_csv('Delhi.csv')\n",
    "df_hyderabad= pd.read_csv('Hyderabad.csv')\n",
    "df_kolkata  = pd.read_csv('Kolkata.csv')\n",
    "df_mumbai   = pd.read_csv('Mumbai.csv')\n",
    "\n",
    "##### Combining the files into one #####\n",
    "df_banglore['City']='Banglore'\n",
    "df_chennai['City']='Chennai'\n",
    "df_delhi['City']='Delhi'\n",
    "df_hyderabad['City']='Hyderabad'\n",
    "df_kolkata['City']='Kolkata'\n",
    "df_mumbai['City']='Mumbai'\n",
    "\n",
    "df=pd.concat([df_banglore, df_chennai, df_delhi, df_hyderabad, df_kolkata, df_mumbai]).reset_index(drop=True)"
   ]
  },
  {
   "cell_type": "code",
   "execution_count": 3,
   "metadata": {
    "executionInfo": {
     "elapsed": 19,
     "status": "ok",
     "timestamp": 1637754715021,
     "user": {
      "displayName": "Lackarsu Siri Verma",
      "photoUrl": "https://lh3.googleusercontent.com/a/default-user=s64",
      "userId": "01524574898192188774"
     },
     "user_tz": -330
    },
    "id": "JMunAn4DTblW"
   },
   "outputs": [],
   "source": [
    "# The digit '9' seems to be used to indicate the absence of information about certain predictor variables. \n",
    "# We'll clean the dataframe by dropping these values.\n",
    "df.replace(9, np.nan, inplace=True)\n",
    "df.dropna(inplace=True)"
   ]
  },
  {
   "cell_type": "code",
   "execution_count": 4,
   "metadata": {
    "colab": {
     "base_uri": "https://localhost:8080/"
    },
    "executionInfo": {
     "elapsed": 18,
     "status": "ok",
     "timestamp": 1637754715023,
     "user": {
      "displayName": "Lackarsu Siri Verma",
      "photoUrl": "https://lh3.googleusercontent.com/a/default-user=s64",
      "userId": "01524574898192188774"
     },
     "user_tz": -330
    },
    "id": "hoFsKDniTmJ5",
    "outputId": "5988d395-9b38-4125-d54a-4a3704d2ea31"
   },
   "outputs": [
    {
     "name": "stdout",
     "output_type": "stream",
     "text": [
      "<class 'pandas.core.frame.DataFrame'>\n",
      "Int64Index: 10093 entries, 0 to 26641\n",
      "Data columns (total 41 columns):\n",
      " #   Column               Non-Null Count  Dtype  \n",
      "---  ------               --------------  -----  \n",
      " 0   Price                10093 non-null  int64  \n",
      " 1   Area                 10093 non-null  int64  \n",
      " 2   Location             10093 non-null  object \n",
      " 3   No. of Bedrooms      10093 non-null  float64\n",
      " 4   Resale               10093 non-null  int64  \n",
      " 5   MaintenanceStaff     10093 non-null  float64\n",
      " 6   Gymnasium            10093 non-null  float64\n",
      " 7   SwimmingPool         10093 non-null  float64\n",
      " 8   LandscapedGardens    10093 non-null  float64\n",
      " 9   JoggingTrack         10093 non-null  float64\n",
      " 10  RainWaterHarvesting  10093 non-null  float64\n",
      " 11  IndoorGames          10093 non-null  float64\n",
      " 12  ShoppingMall         10093 non-null  float64\n",
      " 13  Intercom             10093 non-null  float64\n",
      " 14  SportsFacility       10093 non-null  float64\n",
      " 15  ATM                  10093 non-null  float64\n",
      " 16  ClubHouse            10093 non-null  float64\n",
      " 17  School               10093 non-null  float64\n",
      " 18  24X7Security         10093 non-null  float64\n",
      " 19  PowerBackup          10093 non-null  float64\n",
      " 20  CarParking           10093 non-null  float64\n",
      " 21  StaffQuarter         10093 non-null  float64\n",
      " 22  Cafeteria            10093 non-null  float64\n",
      " 23  MultipurposeRoom     10093 non-null  float64\n",
      " 24  Hospital             10093 non-null  float64\n",
      " 25  WashingMachine       10093 non-null  float64\n",
      " 26  Gasconnection        10093 non-null  float64\n",
      " 27  AC                   10093 non-null  float64\n",
      " 28  Wifi                 10093 non-null  float64\n",
      " 29  Children'splayarea   10093 non-null  float64\n",
      " 30  LiftAvailable        10093 non-null  float64\n",
      " 31  BED                  10093 non-null  float64\n",
      " 32  VaastuCompliant      10093 non-null  float64\n",
      " 33  Microwave            10093 non-null  float64\n",
      " 34  GolfCourse           10093 non-null  float64\n",
      " 35  TV                   10093 non-null  float64\n",
      " 36  DiningTable          10093 non-null  float64\n",
      " 37  Sofa                 10093 non-null  float64\n",
      " 38  Wardrobe             10093 non-null  float64\n",
      " 39  Refrigerator         10093 non-null  float64\n",
      " 40  City                 10093 non-null  object \n",
      "dtypes: float64(36), int64(3), object(2)\n",
      "memory usage: 3.2+ MB\n"
     ]
    }
   ],
   "source": [
    "df.info()"
   ]
  },
  {
   "cell_type": "code",
   "execution_count": 5,
   "metadata": {
    "executionInfo": {
     "elapsed": 15,
     "status": "ok",
     "timestamp": 1637754715024,
     "user": {
      "displayName": "Lackarsu Siri Verma",
      "photoUrl": "https://lh3.googleusercontent.com/a/default-user=s64",
      "userId": "01524574898192188774"
     },
     "user_tz": -330
    },
    "id": "Am4JJVTmT8qg"
   },
   "outputs": [],
   "source": [
    "# When no. of training samples corresponding to a particular location are very less, \n",
    "# then it is hard to predict price accurately for test data in that specific location. \n",
    "# Hence, to improve accuracy, we are removing data points whole location appears very rare in the dataset (<=10). \n",
    "loc_stats=df.groupby('Location')['Location'].agg('count').sort_values(ascending=False)\n",
    "loc_stats_less_than_10=loc_stats[loc_stats<=10]\n",
    "df.Location=df.Location.apply(lambda x: 'other' if x in loc_stats_less_than_10 else x)\n",
    "df.replace('other', np.nan, inplace=True)\n",
    "df.dropna(inplace=True)\n",
    "\n",
    "# Converting rupees to lakhs\n",
    "# RUN THIS ONLY ONCE OTHERWISE PRICE WILL BE REDUCED BY A FACTOR OF 10^5 MULTIPLE TIMES!\n",
    "df['Price']= df['Price']/10**5"
   ]
  },
  {
   "cell_type": "code",
   "execution_count": 6,
   "metadata": {
    "executionInfo": {
     "elapsed": 13,
     "status": "ok",
     "timestamp": 1637754715025,
     "user": {
      "displayName": "Lackarsu Siri Verma",
      "photoUrl": "https://lh3.googleusercontent.com/a/default-user=s64",
      "userId": "01524574898192188774"
     },
     "user_tz": -330
    },
    "id": "4PUHanmywvI9"
   },
   "outputs": [
    {
     "name": "stdout",
     "output_type": "stream",
     "text": [
      "{'Kannur on Thanisandra Main Road': 'Not found', 'Doddanekundi': (12.9713194, 77.6964768), 'Horamavu': (13.0273312, 77.6601508), 'Thanisandra': (13.054713, 77.6339258), 'Ramamurthy Nagar': (13.0120218, 77.6777817), 'Whitefield Hope Farm Junction': (12.9828923, 77.75331443178575), 'Electronic City Phase 1': (12.8496783, 77.6649749), 'Yelahanka': (13.1006982, 77.5963454), 'Anjanapura': (12.6847039, 77.2711718), 'Jalahalli': (13.6510577, 77.4305219), 'Kasavanahalli': (14.2042644, 76.5173044), 'Bommasandra': (12.8162443, 77.6916113), 'Bellandur': (12.93577245, 77.66676103753434), 'RR Nagar': (9.46693815, 77.93356445178478), 'Begur': (12.8633887, 77.61301120503904), 'Hosa Road': (12.8705404, 77.6540853), 'Sahakar Nagar': (18.4900796, 73.8475301), 'Kadugodi': (12.9985767, 77.7609716), 'Jakkur': (13.0784743, 77.6068938), 'Jigani': (12.7852528, 77.6380931), 'Krishnarajapura': (12.0325216, 76.8056333), 'Banashankari': (15.8876779, 75.7046777), 'Nelamangala': (13.0953024, 77.3963586), 'Attibele': (12.7782588, 77.7712834), 'ITPL': (12.9876616, 77.7369153), 'Varthur': (12.9406152, 77.7469937), 'Electronic City Phase 2': (12.8468545, 77.6769267), 'Sarjapur': (12.9116225, 77.6388622), 'Koramangala': (12.9340114, 77.6222304), 'Hebbal': (13.0382184, 77.5919), 'Budigere Cross': (13.0464102, 77.750307), 'Bommanahalli': (12.9089453, 77.6239038), 'Nayandahalli': (12.9413253, 77.5212118), 'Muneshwara Nagar': (13.014081149999999, 77.61147441571453), 'Junnasandra': (12.9053261, 77.6844603), 'Narayanapura on Hennur Main Road': 'Not found', 'Sarjapur Road Wipro To Railway Crossing': 'Not found', 'Kudlu': (12.8889126, 77.6555716), 'Talaghattapura': 'Not found', 'Carmelaram': (12.9111998, 77.7065133), 'Uttarahalli': (12.9055682, 77.5455438), 'Anagalapura Near Hennur Main Road': 'Not found', 'JP Nagar Phase 7': (12.9155514, 77.5774308), 'JP Nagar Phase 4': (12.9163386, 77.578242), 'JP Nagar Phase 8': (12.9163386, 77.578242), 'Nagarbhavi': (12.95961755, 77.51126721318181), 'JP Nagar Phase 3': (17.4890519, 78.3972565), 'Gottigere': (12.8565317, 77.5877237), 'Kanakapura Road Beyond Nice Ring Road': 'Not found', 'Harlur': (12.8920326, 77.6550376733177), 'Konanakunte': (12.8792861, 77.5697529), 'Devanahalli': (13.2483502, 77.7134377), 'Hulimavu': (12.8773486, 77.6028031), 'Kumaraswamy Layout': (12.9081487, 77.5553179), 'Singasandra': (12.6477419, 77.3625356), 'KPC Layout': 'Not found', 'BTM Layout': (12.9151772, 77.6102821), 'Perungalathur': (12.9145454, 80.0879549), 'Karapakkam': (12.9117073, 80.2277203), 'Iyappanthangal': 'Not found', 'Mevalurkuppam': (13.0280202, 80.007207), 'Kolapakkam': (13.0097074, 80.1528994), 'Pammal': (12.9737938, 80.1408), 'Selaiyur': (12.9187445, 80.1311172), 'Thoraipakkam OMR': (12.9300691, 80.2300221), 'Anna Nagar': (13.0872004, 80.2164421), 'Mogappair': (13.0835142, 80.1840779), 'Sholinganallur': (12.9174426, 80.21649018230858), 'Medavakkam': (12.9229928, 80.1882897), 'Avadi': (13.1254758, 80.09409), 'Tiruvottiyur': (13.1563873, 80.3005279), 'Manapakkam': (13.0147531, 80.1744935), 'Madipakkam': (12.9611348, 80.2001292), 'Thiruvanmiyur': (12.9858948, 80.2644215), 'Poonamallee': (13.0768552, 80.05106225488868), 'Pallavaram': (12.989815700000001, 80.10098654184341), 'Madambakkam': (12.9057186, 80.1543859), 'Perungudi': (12.9710239, 80.2418051), 'Navallur': (11.728208850000001, 75.57197828274799), 'Moolacheri': 'Not found', 'Chromepet': (12.9521897, 80.1411677), 'Kelambakkam': (12.7871437, 80.219987), 'Vadapalani': (13.0509304, 80.2120661), 'Porur': (13.0320131, 80.158304), 'Manikandan Nagar': (12.906662149999999, 80.15232025), 'Velachery': (12.980165450000001, 80.22285056225584), 'East Tambaram': (12.9265148, 80.1314526), 'Sunnambu Kolathur S Kolathur': (12.9485037, 80.1989335), 'Perumbakkam': (12.2202453, 78.9945343), 'Raja Annamalai Puram': (13.0244783, 80.253937), 'Nanmangalam': (12.9382161, 80.1782483), 'Guduvancheri': (12.8439952, 80.0608336), 'Sembakkam': (12.7023624, 80.1298612), 'Nungambakkam': (13.0620626, 80.240487), 'T Nagar': (13.05279, 80.23769), 'Ambattur': (13.1128863, 80.15986241084877), 'Mugalivakkam': (13.0205798, 80.1685163), 'Maduravoyal': (13.0601732, 80.1665988), 'West Tambaram': (12.9257923, 80.1179194), 'Thiruverkadu': (13.0727699, 80.1204591), 'tambaram west': (12.9257923, 80.1179194), 'Korattur': (13.1115392, 80.1842767), 'Kolathur': (13.1241127, 80.2046276), 'Egmore': (13.0728321, 80.2576906), 'Kovur': (14.5196139, 79.98609721048601), 'Ullagaram': (12.9765868, 80.1967196), 'Kovilambakkam': (12.9395276, 80.1826297), 'Vengaivasal': (12.9000243, 80.1715639), 'Kilkattalai': 'Not found', 'Pallikaranai': (12.9304748, 80.2077692), 'Rajakilpakkam': (12.9145851, 80.1579056), 'Iyyappanthangal': 'Not found', 'Choolaimedu': (13.0623344, 80.2254012), 'Sector 10 Dwarka': (28.5843113, 77.05769328545757), 'Uttam Nagar': (28.6190739, 77.0566861), 'Sarita Vihar': (28.5285737, 77.2883311), 'Dwarka Mor': (28.61931, 77.0332792), 'Sector 7 Dwarka': (28.5874118, 77.0673052), 'Sector 6 Dwarka': (28.5925436, 77.06467187079608), 'Sector 5 Dwarka': (28.59740795, 77.05669444035006), 'Sector 23 Rohini': (28.72122875, 77.08000848524587), 'Sector 24 Rohini': (28.728312000000003, 77.08789004959439), 'Sector 11 Dwarka': (28.58955135, 77.04999825784071), 'Sector 23 Dwarka': (28.5619923, 77.0491008), 'Sector 12 Dwarka': (28.5956058, 77.04303844386249), 'Mundka': (28.6824341, 77.0305741), 'Sector 13 Rohini': (28.7224501, 77.13217323821597), 'Jamia Nagar': (34.0314309, 74.821375), 'Sector 19 Dwarka': (28.5757718, 77.04871203974312), 'Sector-18 Dwarka': (28.587092900000002, 77.03582770745707), 'Vasant Kunj': (28.5292495, 77.1541335), 'Shastri Nagar': (28.6700885, 77.1818589), 'Sector 9 Dwarka': (28.5790689, 77.06541856102075), 'Govindpuri': (26.4536771, 80.312879), 'Sector 22 Dwarka': (28.5579591, 77.0580701), 'Saket': (28.5244107, 77.2137253), 'Mahavir Enclave': (9.92960895, 76.25554196442533), 'Burari': (30.5120408, 78.045119), 'Shahdara': (28.6733333, 77.2890248), 'Sector 13 Dwarka': (28.6058267, 77.0363145), 'Mansa Ram Park': 'Not found', 'Kalkaji': (28.5370703, 77.2618051), 'Sector 4 Dwarka': (28.6017004, 77.0489717), 'Sector 3 Dwarka': (28.60768035, 77.04385776827434), 'Chittaranjan Park': (28.5387523, 77.2492493451557), 'Chattarpur': (28.4971399, 77.1812506), 'Paschim Vihar': (28.6695782, 77.095956), 'Pitampura': (28.6995123, 77.1301047), 'Sector 2 Dwarka': (28.5986338, 77.0686619), 'Jasola': (28.5422327, 77.29438559976452), 'nawada': (24.818123999999997, 85.5185562336921), 'Alaknanda': (30.2965383, 79.1567896), 'Hari Nagar': (28.6296489, 77.1119344), 'Nizampet': (17.515397, 78.3817156), 'Hitech City': (17.451523, 78.3825785), 'Manikonda': (16.449897, 80.8334595), 'Alwal': (17.5022292, 78.5088584), 'Kukatpally': (17.4930841, 78.4054408), 'Gachibowli': (17.4436222, 78.3519638), 'Tellapur': (17.4535469, 78.2905401), 'Kokapet': (17.3948624, 78.3365214), 'Narsingi': (18.0191012, 78.0692712), 'Madhapur': (17.4408578, 78.3916289), 'Puppalaguda': (17.39999505, 78.3861689281263), 'Begumpet': (17.4440199, 78.4624821), 'Banjara Hills': (17.4177464, 78.4399014), 'Pragathi Nagar Kukatpally': (17.5067706, 78.3960708), 'Miyapur': (17.4981608, 78.3567628), 'Mallampet': (18.9898611, 79.7955465), 'Nanakramguda': (17.4258278, 78.3405519), 'Attapur': (17.3847673, 77.9793799), 'West Marredpally': (17.45121, 78.5020964), 'Kompally': (18.0823869, 78.003997), 'Nagole': (17.37399515, 78.55810936158971), 'LB Nagar': (17.3501617, 78.5510938), 'Kachiguda': (17.3867056, 78.4950359), 'Kondapur': (18.3309604, 79.9224686), 'Mallapur': (17.4405369, 78.5788551), 'Rajendra Nagar': (25.6030053, 85.1623397), 'Beeramguda': (17.5163573, 78.3010473), 'Bachupally': (17.5410548, 78.3635484), 'Toli Chowki': 'Not found', 'Tarnaka': (17.4285479, 78.5379433), 'Shaikpet': (17.4057955, 78.4006536), 'Sanath Nagar': (17.4522594, 78.4446705), 'Darga Khaliz Khan': 'Not found', 'Balanagar': (16.9496097, 78.1835173), 'Jubilee Hills': (17.4308362, 78.4102882), 'Chandanagar': (17.4872976, 78.3322142), 'East Marredpally': (17.4469418, 78.5107535), 'Aminpur': 'Not found', 'Gajularamaram': (17.5271759, 78.4200077), 'Serilingampally': (17.4795688, 78.3208063), 'Malkajgiri': (17.4511764, 78.5368997), 'Nallagandla Gachibowli': (17.4774828, 78.3060359), 'Krishna Reddy Pet': 'Not found', 'Bandlaguda Jagir': (17.3506317, 78.3907531), 'Appa Junction Peerancheru': 'Not found', 'Appa Junction': (11.9280348, 79.8284584), 'Gajulramaram Kukatpally': 'Not found', 'TellapurOsman Nagar Road': 'Not found', 'Bachupally Road': (17.5351022, 78.3580032), 'Adibatla': 'Not found', 'Madinaguda': (17.4917948, 78.342306), 'Patancheru': (17.5286092, 78.2674254), 'Kollur Road': (13.8631234, 74.8103592), 'New Town': (22.5882834, 88.4734476), 'Kharghar': (19.0525298, 73.0735111), 'Sector 20 Kharghar': (19.0477591, 73.0703762411172), 'Malad East': (19.1860219, 72.8563181), 'Malad West': (19.1840129, 72.8412155), 'Borivali East': (19.2267228, 72.8619328), 'Mira Road East': 'Not found', 'Goregaon West': (19.1633281, 72.8411995), 'Kandivali West': (19.2083801, 72.842227), 'Kandivali East': (19.2103809, 72.8640837), 'Wadala': (19.0269192, 72.8759337), 'Ulwe': (18.9710996, 73.0217484), 'Thane West': (19.1984892, 72.9657017), 'Sector 17 Ulwe': 'Not found', 'Sector9 Kamothe': 'Not found', 'Sector12 Kamothe': 'Not found', 'Chembur': (19.0626319, 72.9011399), 'Thane': (19.1943294, 72.9701779), 'Kamothe': (19.0173837, 73.09548380186183), 'Dronagiri': (18.8813327, 72.9647315), 'Karanjade': 'Not found', 'Magathane': (19.2171041, 72.8667141), 'Dattapada': (19.2212775, 72.8618485), 'Mira Road and Beyond': 'Not found', 'Dombivali East': (19.2091632, 73.0889057), 'Wadala East Wadala': (19.0169547, 72.8566584), 'Kalwa': (30.4209601, 76.4260523)}\n"
     ]
    }
   ],
   "source": [
    "# Adding the latitute and longitute for the places\n",
    "location=Nominatim(user_agent='user_me_{}'.format(randint(10000,99999))) \n",
    "def get_location_code(x):\n",
    "    try:                                                           ## Error handling using try and catch block!\n",
    "        cordinates=location.geocode(x, country_codes='in')\n",
    "        return cordinates.latitude, cordinates.longitude  \n",
    "    except:\n",
    "        time.sleep(0.030)\n",
    "        return \"Not found\"\n",
    "\n",
    "# Finding lat/long for unique loactions only for speeding up execution\n",
    "unique_location=df['Location'].unique()\n",
    "location_to_code={}\n",
    "for place in unique_location:\n",
    "    location_to_code[place]=get_location_code(place) # This took 6 mins for me! Save this cleaned csv!\n",
    "\n",
    "print(location_to_code)\n",
    "# Creating two new columns having latitude and longitude\n",
    "df['Latitude'],df['Longitude']=zip(*df['Location'].map(location_to_code))\n",
    "\n",
    "# Removing the 'Not found' records\n",
    "df=df[df['Latitude']!='Not found'].reset_index(drop=True)\n",
    "df=df[df['Latitude']!='N'].reset_index(drop=True)"
   ]
  },
  {
   "cell_type": "code",
   "execution_count": 7,
   "metadata": {
    "executionInfo": {
     "elapsed": 14,
     "status": "ok",
     "timestamp": 1637754715027,
     "user": {
      "displayName": "Lackarsu Siri Verma",
      "photoUrl": "https://lh3.googleusercontent.com/a/default-user=s64",
      "userId": "01524574898192188774"
     },
     "user_tz": -330
    },
    "id": "OaS_Io3rgHlS"
   },
   "outputs": [],
   "source": [
    "# Saving the cleaned data file as it takes plenty of time build.\n",
    "df.to_csv('HM-All_Cities_Cleaned_1.csv', index=False)\n",
    "\n",
    "file_path='HM-All_Cities_Cleaned_1.csv'\n",
    "df=pd.read_csv(file_path, index_col=False)"
   ]
  },
  {
   "cell_type": "markdown",
   "metadata": {
    "id": "3VDQAxdfiayh"
   },
   "source": [
    "# Data Pre-processing Stage-2: **Feature Selection** \n",
    "\n",
    "Using a lot of predictors (~40 here!) often leads to model inefficiency and inaccuracy. We'll only select those few features that are highly relevant for our prediction of housing price. Moreover, if two separate feature haves high correlation, it implies both have an almost linear relationship with each other. Thus, we can drop one of them!"
   ]
  },
  {
   "cell_type": "code",
   "execution_count": 8,
   "metadata": {
    "colab": {
     "base_uri": "https://localhost:8080/",
     "height": 984
    },
    "executionInfo": {
     "elapsed": 5823,
     "status": "ok",
     "timestamp": 1637754723319,
     "user": {
      "displayName": "Lackarsu Siri Verma",
      "photoUrl": "https://lh3.googleusercontent.com/a/default-user=s64",
      "userId": "01524574898192188774"
     },
     "user_tz": -330
    },
    "id": "rfUKPSqwaA7c",
    "outputId": "476c3cd7-2551-4c45-cbdf-b1764d25776c"
   },
   "outputs": [
    {
     "data": {
      "image/png": "[encoded data removed]",
      "text/plain": [
       "<Figure size 1800x1080 with 2 Axes>"
      ]
     },
     "metadata": {
      "needs_background": "light"
     },
     "output_type": "display_data"
    }
   ],
   "source": [
    "# Correlation between predictor variables and output variable\n",
    "\n",
    "features1 = df.columns.values\n",
    "\n",
    "mask = np.zeros_like(df[features1].corr(), dtype=bool) \n",
    "mask[np.triu_indices_from(mask)] = True \n",
    "\n",
    "f, ax = plt.subplots(figsize=(25, 15))\n",
    "plt.title('Pearson Correlation Matrix',fontsize=25)\n",
    "\n",
    "sns.heatmap(df[features1].corr(),linewidths=0.25,vmax=0.7,square=True,cmap=\"BuGn\", #\"BuGn_r\" to reverse \n",
    "            linecolor='w',annot=True,annot_kws={\"size\":6.5},mask=mask,cbar_kws={\"shrink\": .9});"
   ]
  },
  {
   "cell_type": "markdown",
   "metadata": {
    "id": "VxL06YARaiQY"
   },
   "source": [
    "**Statistical way of selecting features:**\n",
    "\n",
    "We'll drop all features having correlation with Price < 0.15 and we'll drop one feature amongst two if their correlation > 0.7. Hence, we selected the following features - **Location, Area, Number of bedrooms, Swimming Pool, Power backup, GasConnection, AC, Children's Play Area**\n",
    "\n",
    "**Intuitively selecting the features:**\n",
    "\n",
    "Keeping the correlations between predictor and output variables in mind, we removed some features and included only those that seem important from a buyer/seller's point of view. Thre feature set we decided here is - **'Area','Location','City','No. of Bedrooms','Gymnasium','CarParking','Hospital'**\n",
    "\n",
    "**FINAL FEATURE SET:**\n",
    "\n",
    "We ran our model on the whole feature set, and the above two feature sets and recorded the accuracies. We got the highest accuracy for the feature set - [ 'Area' , 'Location' , 'City' , 'No. of Bedrooms' , 'Gymnasium' , 'CarParking' , 'Hospital' ]. The other feature sets did not give high accuracy even though the correlation values were high was due to the presence of outliers. "
   ]
  },
  {
   "cell_type": "code",
   "execution_count": 9,
   "metadata": {
    "executionInfo": {
     "elapsed": 14,
     "status": "ok",
     "timestamp": 1637754723321,
     "user": {
      "displayName": "Lackarsu Siri Verma",
      "photoUrl": "https://lh3.googleusercontent.com/a/default-user=s64",
      "userId": "01524574898192188774"
     },
     "user_tz": -330
    },
    "id": "HB9x1dznaeKM"
   },
   "outputs": [],
   "source": [
    "# df_1 = df[['Price','Area','Location','City','No. of Bedrooms','SwimmingPool','PowerBackup','Gasconnection','AC',\"Children'splayarea\"]]\n",
    "# df_1 = df.copy()\n",
    "df_1 = df[['Price','Area','Location','City','No. of Bedrooms','Gymnasium','CarParking','Hospital','Latitude','Longitude']]"
   ]
  },
  {
   "cell_type": "markdown",
   "metadata": {
    "id": "h8-fSnvLidIH"
   },
   "source": [
    "# Data Pre-processing Stage-3: **Exploratory Data Analysis**\n",
    "\n",
    "We'll perform some inital data plotting to visualise any potential outliers and possible patterns"
   ]
  },
  {
   "cell_type": "markdown",
   "metadata": {
    "id": "JAgtLT7MjicI"
   },
   "source": [
    "**VARIATION OF HOUSE PRICES:**"
   ]
  },
  {
   "cell_type": "code",
   "execution_count": 10,
   "metadata": {
    "colab": {
     "base_uri": "https://localhost:8080/",
     "height": 448
    },
    "executionInfo": {
     "elapsed": 1444,
     "status": "ok",
     "timestamp": 1637754735875,
     "user": {
      "displayName": "Lackarsu Siri Verma",
      "photoUrl": "https://lh3.googleusercontent.com/a/default-user=s64",
      "userId": "01524574898192188774"
     },
     "user_tz": -330
    },
    "id": "vyXr_R_gjlie",
    "outputId": "61a0c0d2-029d-40d3-e77e-3327ca56912d"
   },
   "outputs": [
    {
     "data": {
      "image/png": "[encoded data removed]",
      "text/plain": [
       "<Figure size 864x432 with 1 Axes>"
      ]
     },
     "metadata": {},
     "output_type": "display_data"
    }
   ],
   "source": [
    "def plot_city_variation(col_name, title, df):\n",
    "    sns.set_style(\"darkgrid\") # Background grid style\n",
    "    ax=sns.catplot(x='City', y=col_name, data=df, jitter=0.3, height=6, aspect=2)\n",
    "\n",
    "    # For aesthetic purpose\n",
    "    ax.fig.suptitle(title, fontsize=20);\n",
    "    ax.set_xlabels('Cities',fontsize=15);\n",
    "    ax.set_ylabels(col_name,fontsize=15);\n",
    "\n",
    "plot_city_variation('Price', 'House price variation in various cities',df_1)"
   ]
  },
  {
   "cell_type": "markdown",
   "metadata": {
    "id": "D8Mt8zhFjyOC"
   },
   "source": [
    "Some houses in Mumbai seem to have prices greater than INR 35 crore! We'll remove these **luxurious outlier points (> INR 1 crore)** before training our models."
   ]
  },
  {
   "cell_type": "markdown",
   "metadata": {
    "id": "IYSfw23rkSx5"
   },
   "source": [
    "**OUTLIER REMOVAL:**\n",
    "\n",
    "\n",
    "1.   We'll first create a temporary column of per square feet rate in our dataframe and drop any unrealistic values that are beyond μ-3σ\n",
    "\n"
   ]
  },
  {
   "cell_type": "code",
   "execution_count": 11,
   "metadata": {
    "colab": {
     "base_uri": "https://localhost:8080/"
    },
    "executionInfo": {
     "elapsed": 16,
     "status": "ok",
     "timestamp": 1637754736475,
     "user": {
      "displayName": "Lackarsu Siri Verma",
      "photoUrl": "https://lh3.googleusercontent.com/a/default-user=s64",
      "userId": "01524574898192188774"
     },
     "user_tz": -330
    },
    "id": "IOu1n62PkWOU",
    "outputId": "9b94248f-899c-499e-b7df-bfb59742a840"
   },
   "outputs": [
    {
     "data": {
      "text/plain": [
       "count     7677.000000\n",
       "mean      6768.579139\n",
       "std       3669.013659\n",
       "min       2000.000000\n",
       "25%       4571.428571\n",
       "50%       5620.915033\n",
       "75%       7826.086957\n",
       "max      91960.063058\n",
       "Name: price_per_sqft, dtype: float64"
      ]
     },
     "execution_count": 11,
     "metadata": {},
     "output_type": "execute_result"
    }
   ],
   "source": [
    "df1 = df_1.copy()\n",
    "df1['price_per_sqft'] = df1['Price']*100000/df1['Area']\n",
    "df1.price_per_sqft.describe()"
   ]
  },
  {
   "cell_type": "code",
   "execution_count": 12,
   "metadata": {
    "executionInfo": {
     "elapsed": 15,
     "status": "ok",
     "timestamp": 1637754736477,
     "user": {
      "displayName": "Lackarsu Siri Verma",
      "photoUrl": "https://lh3.googleusercontent.com/a/default-user=s64",
      "userId": "01524574898192188774"
     },
     "user_tz": -330
    },
    "id": "PZcRZ5jFrLn1"
   },
   "outputs": [],
   "source": [
    "def Remove_PPS_Outliers(df):\n",
    "    df_out=pd.DataFrame()\n",
    "    for key,subdf in df.groupby('Location'):\n",
    "        m=np.mean(subdf.price_per_sqft)\n",
    "        st=np.std(subdf.price_per_sqft)\n",
    "        reduced_df=subdf[(subdf.price_per_sqft>(m-3*st))&(subdf.price_per_sqft<=(m+3*st))]\n",
    "        df_out=pd.concat([df_out,reduced_df],ignore_index=True)\n",
    "    return df_out\n",
    "\n",
    "df2=Remove_PPS_Outliers(df1)\n",
    "df2 = df2[(df2.Price<=(1000.0))] # Prices less than 1 crore are considered.  \n",
    "# plot_city_variation('Price', 'House price variation in various cities',df2)"
   ]
  },
  {
   "cell_type": "markdown",
   "metadata": {
    "id": "oU6xQVsms43s"
   },
   "source": [
    "**Note:** About 374 data points (4 %) got dropped due to removing over luxurious or unnaturally low price per sqft houses!"
   ]
  },
  {
   "cell_type": "code",
   "execution_count": 13,
   "metadata": {
    "executionInfo": {
     "elapsed": 14,
     "status": "ok",
     "timestamp": 1637754736478,
     "user": {
      "displayName": "Lackarsu Siri Verma",
      "photoUrl": "https://lh3.googleusercontent.com/a/default-user=s64",
      "userId": "01524574898192188774"
     },
     "user_tz": -330
    },
    "id": "_-LO6vNps1Xo"
   },
   "outputs": [],
   "source": [
    "# drop the price_per_sqft column that was created temporarily\n",
    "df3 = df2.drop(['price_per_sqft'],axis='columns')\n",
    "\n",
    "# When no. of training samples corresponding to a particular location are very less, \n",
    "# then it is hard to predict price accurately for test data in that specific location. \n",
    "# Hence, to improve accuracy, we are removing data points whole location appears very rare in the dataset (<=10). \n",
    "loc_stats=df3.groupby('Location')['Location'].agg('count').sort_values(ascending=False)\n",
    "loc_stats_less_than_10=loc_stats[loc_stats<=10]\n",
    "df3.Location=df3.Location.apply(lambda x: 'other' if x in loc_stats_less_than_10 else x)\n",
    "df3.replace('other', np.nan, inplace=True)\n",
    "df3.dropna(inplace=True)\n",
    "\n",
    "\n",
    "df3=df3[~(df3.Area/df3['No. of Bedrooms']<300)]\n",
    "df3=df3[~(df3.Area/df3['No. of Bedrooms']>900)]"
   ]
  },
  {
   "cell_type": "markdown",
   "metadata": {
    "id": "dD4FE7xCuD8K"
   },
   "source": [
    "Since **'Location'** is a categorical variable, we'll have to convert all location values as a binary 0/1 feature before using regression or classification models"
   ]
  },
  {
   "cell_type": "code",
   "execution_count": 14,
   "metadata": {
    "colab": {
     "base_uri": "https://localhost:8080/"
    },
    "executionInfo": {
     "elapsed": 15,
     "status": "ok",
     "timestamp": 1637754736480,
     "user": {
      "displayName": "Lackarsu Siri Verma",
      "photoUrl": "https://lh3.googleusercontent.com/a/default-user=s64",
      "userId": "01524574898192188774"
     },
     "user_tz": -330
    },
    "id": "wLIdRXkOuMNl",
    "outputId": "5a80b4bf-7a1f-4fcf-e14e-d616cb5b7035"
   },
   "outputs": [
    {
     "name": "stdout",
     "output_type": "stream",
     "text": [
      "<class 'pandas.core.frame.DataFrame'>\n",
      "Int64Index: 6927 entries, 0 to 7603\n",
      "Columns: 214 entries, Price to tambaram west\n",
      "dtypes: float64(7), int64(1), uint8(206)\n",
      "memory usage: 1.8 MB\n"
     ]
    }
   ],
   "source": [
    "df4 = df3.copy()\n",
    "dummies = pd.get_dummies(df4.Location)\n",
    "\n",
    "df5 = pd.concat([df4,dummies],axis='columns')\n",
    "df6=df5.drop('Location',axis='columns')\n",
    "df6.to_csv('HM-All_Cities_Cleaned_Final.csv', index=False)\n",
    "\n",
    "df7 = df6.drop('City',axis='columns')\n",
    "df7.info()"
   ]
  },
  {
   "cell_type": "markdown",
   "metadata": {
    "id": "q3mWagJVuho7"
   },
   "source": [
    "We're now in principle ready for using ANY Machine Learning model on our **dataframe df7**! -> by selecting appropriate features\n",
    "\n",
    "**'Price'** is our response with all other columns being the predictors"
   ]
  },
  {
   "cell_type": "markdown",
   "metadata": {
    "id": "QsM2FDVgyCIV"
   },
   "source": [
    "# **Regression Models**"
   ]
  },
  {
   "cell_type": "code",
   "execution_count": 15,
   "metadata": {
    "executionInfo": {
     "elapsed": 642,
     "status": "ok",
     "timestamp": 1637754749262,
     "user": {
      "displayName": "Lackarsu Siri Verma",
      "photoUrl": "https://lh3.googleusercontent.com/a/default-user=s64",
      "userId": "01524574898192188774"
     },
     "user_tz": -330
    },
    "id": "-36FgzijyShs"
   },
   "outputs": [],
   "source": [
    "from sklearn.model_selection import train_test_split\n",
    "from sklearn import linear_model\n",
    "from sklearn.neighbors import KNeighborsRegressor\n",
    "from sklearn.preprocessing import PolynomialFeatures\n",
    "from sklearn import metrics\n",
    "from sklearn.model_selection import cross_val_score\n",
    "import matplotlib.pyplot as plt\n",
    "import seaborn as sns\n",
    "from mpl_toolkits.mplot3d import Axes3D"
   ]
  },
  {
   "cell_type": "code",
   "execution_count": 16,
   "metadata": {
    "executionInfo": {
     "elapsed": 33,
     "status": "ok",
     "timestamp": 1637754750106,
     "user": {
      "displayName": "Lackarsu Siri Verma",
      "photoUrl": "https://lh3.googleusercontent.com/a/default-user=s64",
      "userId": "01524574898192188774"
     },
     "user_tz": -330
    },
    "id": "R4Ys-UrOynyb"
   },
   "outputs": [],
   "source": [
    "# We'll fill this evaluation df with results/scores dumped by different models and compare them at the end!\n",
    "evaluation = pd.DataFrame({'Model Name': [],\n",
    "                           'Details':[],\n",
    "                           'Root Mean Squared Error (RMSE)':[],\n",
    "                           'R-squared (training)':[],\n",
    "                           'Adjusted R-squared (training)':[],\n",
    "                           'R-squared (test)':[],\n",
    "                           'Adjusted R-squared (test)':[],\n",
    "                           '5-Fold Cross Validation':[]})\n",
    "\n",
    "def adjustedR2(r2,n,k):        ## n=num of observations and k=num of parameters\n",
    "    return r2-(k-1)/(n-k)*(1-r2)\n",
    "\n",
    "# Train and test data\n",
    "train_data,test_data = train_test_split(df7,train_size = 0.8,random_state=10)"
   ]
  },
  {
   "cell_type": "markdown",
   "metadata": {
    "id": "73tKTU0hyxxD"
   },
   "source": [
    "**SIMPLE LINEAR REGRESSION** - The predictor variable is 'Area'"
   ]
  },
  {
   "cell_type": "code",
   "execution_count": 17,
   "metadata": {
    "colab": {
     "base_uri": "https://localhost:8080/",
     "height": 168
    },
    "executionInfo": {
     "elapsed": 27,
     "status": "ok",
     "timestamp": 1637754750108,
     "user": {
      "displayName": "Lackarsu Siri Verma",
      "photoUrl": "https://lh3.googleusercontent.com/a/default-user=s64",
      "userId": "01524574898192188774"
     },
     "user_tz": -330
    },
    "id": "gxX9iX5ozGrN",
    "outputId": "df501894-14b2-4e52-b873-03b9dd74941d"
   },
   "outputs": [
    {
     "name": "stdout",
     "output_type": "stream",
     "text": [
      "Average Price for Test Data using Area as the only predictor : 93.703\n",
      "Intercept: -33.75627587824658\n",
      "Coefficient: [0.09435739]\n"
     ]
    },
    {
     "data": {
      "text/html": [
       "<div>\n",
       "<style scoped>\n",
       "    .dataframe tbody tr th:only-of-type {\n",
       "        vertical-align: middle;\n",
       "    }\n",
       "\n",
       "    .dataframe tbody tr th {\n",
       "        vertical-align: top;\n",
       "    }\n",
       "\n",
       "    .dataframe thead th {\n",
       "        text-align: right;\n",
       "    }\n",
       "</style>\n",
       "<table border=\"1\" class=\"dataframe\">\n",
       "  <thead>\n",
       "    <tr style=\"text-align: right;\">\n",
       "      <th></th>\n",
       "      <th>Model Name</th>\n",
       "      <th>Details</th>\n",
       "      <th>Root Mean Squared Error (RMSE)</th>\n",
       "      <th>R-squared (training)</th>\n",
       "      <th>Adjusted R-squared (training)</th>\n",
       "      <th>R-squared (test)</th>\n",
       "      <th>Adjusted R-squared (test)</th>\n",
       "      <th>5-Fold Cross Validation</th>\n",
       "    </tr>\n",
       "  </thead>\n",
       "  <tbody>\n",
       "    <tr>\n",
       "      <th>0</th>\n",
       "      <td>Simple Linear Regression</td>\n",
       "      <td>-</td>\n",
       "      <td>47.907</td>\n",
       "      <td>0.555</td>\n",
       "      <td>-</td>\n",
       "      <td>0.549</td>\n",
       "      <td>-</td>\n",
       "      <td>0.576</td>\n",
       "    </tr>\n",
       "  </tbody>\n",
       "</table>\n",
       "</div>"
      ],
      "text/plain": [
       "                 Model Name Details  Root Mean Squared Error (RMSE)  \\\n",
       "0  Simple Linear Regression       -                          47.907   \n",
       "\n",
       "   R-squared (training) Adjusted R-squared (training)  R-squared (test)  \\\n",
       "0                 0.555                             -             0.549   \n",
       "\n",
       "  Adjusted R-squared (test)  5-Fold Cross Validation  \n",
       "0                         -                    0.576  "
      ]
     },
     "execution_count": 17,
     "metadata": {},
     "output_type": "execute_result"
    }
   ],
   "source": [
    "lr = linear_model.LinearRegression()\n",
    "X_train = np.array(train_data['Area'], dtype=pd.Series).reshape(-1,1)\n",
    "y_train = np.array(train_data['Price'], dtype=pd.Series)\n",
    "lr.fit(X_train,y_train)\n",
    "\n",
    "X_test = np.array(test_data['Area'], dtype=pd.Series).reshape(-1,1)\n",
    "y_test = np.array(test_data['Price'], dtype=pd.Series)\n",
    "\n",
    "pred = lr.predict(X_test)\n",
    "rmse_lr = float(format(np.sqrt(metrics.mean_squared_error(y_test,pred)),'.3f'))\n",
    "rtr_lr = float(format(lr.score(X_train, y_train),'.3f'))\n",
    "rte_lr = float(format(lr.score(X_test, y_test),'.3f'))\n",
    "cv = float(format(cross_val_score(lr,df[['Area']],df['Price'],cv=5).mean(),'.3f'))\n",
    "\n",
    "print (\"Average Price for Test Data using Area as the only predictor : {:.3f}\".format(y_test.mean()))\n",
    "print('Intercept: {}'.format(lr.intercept_))\n",
    "print('Coefficient: {}'.format(lr.coef_))\n",
    "\n",
    "r = evaluation.shape[0]\n",
    "evaluation.loc[r] = ['Simple Linear Regression','-',rmse_lr,rtr_lr,'-',rte_lr,'-',cv]\n",
    "evaluation"
   ]
  },
  {
   "cell_type": "markdown",
   "metadata": {
    "id": "OnwNlJgM0LPg"
   },
   "source": [
    "**MULTIPLE LINEAR REGRESSION WITH SELECTED FEATURES:**"
   ]
  },
  {
   "cell_type": "code",
   "execution_count": 18,
   "metadata": {
    "colab": {
     "base_uri": "https://localhost:8080/",
     "height": 164
    },
    "executionInfo": {
     "elapsed": 1666,
     "status": "ok",
     "timestamp": 1637754751760,
     "user": {
      "displayName": "Lackarsu Siri Verma",
      "photoUrl": "https://lh3.googleusercontent.com/a/default-user=s64",
      "userId": "01524574898192188774"
     },
     "user_tz": -330
    },
    "id": "nPoYre9a0N3P",
    "outputId": "ffe40c61-7b36-41bd-8172-79d3c27afdda"
   },
   "outputs": [
    {
     "data": {
      "text/html": [
       "<div>\n",
       "<style scoped>\n",
       "    .dataframe tbody tr th:only-of-type {\n",
       "        vertical-align: middle;\n",
       "    }\n",
       "\n",
       "    .dataframe tbody tr th {\n",
       "        vertical-align: top;\n",
       "    }\n",
       "\n",
       "    .dataframe thead th {\n",
       "        text-align: right;\n",
       "    }\n",
       "</style>\n",
       "<table border=\"1\" class=\"dataframe\">\n",
       "  <thead>\n",
       "    <tr style=\"text-align: right;\">\n",
       "      <th></th>\n",
       "      <th>Model Name</th>\n",
       "      <th>Details</th>\n",
       "      <th>Root Mean Squared Error (RMSE)</th>\n",
       "      <th>R-squared (training)</th>\n",
       "      <th>Adjusted R-squared (training)</th>\n",
       "      <th>R-squared (test)</th>\n",
       "      <th>Adjusted R-squared (test)</th>\n",
       "      <th>5-Fold Cross Validation</th>\n",
       "    </tr>\n",
       "  </thead>\n",
       "  <tbody>\n",
       "    <tr>\n",
       "      <th>0</th>\n",
       "      <td>Simple Linear Regression</td>\n",
       "      <td>-</td>\n",
       "      <td>47.907</td>\n",
       "      <td>0.555</td>\n",
       "      <td>-</td>\n",
       "      <td>0.549</td>\n",
       "      <td>-</td>\n",
       "      <td>5.760000e-01</td>\n",
       "    </tr>\n",
       "    <tr>\n",
       "      <th>1</th>\n",
       "      <td>Multiple Regression</td>\n",
       "      <td>-</td>\n",
       "      <td>23.139</td>\n",
       "      <td>0.890</td>\n",
       "      <td>0.885</td>\n",
       "      <td>0.895</td>\n",
       "      <td>0.876</td>\n",
       "      <td>-9.436590e+15</td>\n",
       "    </tr>\n",
       "  </tbody>\n",
       "</table>\n",
       "</div>"
      ],
      "text/plain": [
       "                 Model Name Details  Root Mean Squared Error (RMSE)  \\\n",
       "0  Simple Linear Regression       -                          47.907   \n",
       "1       Multiple Regression       -                          23.139   \n",
       "\n",
       "   R-squared (training) Adjusted R-squared (training)  R-squared (test)  \\\n",
       "0                 0.555                             -             0.549   \n",
       "1                 0.890                         0.885             0.895   \n",
       "\n",
       "  Adjusted R-squared (test)  5-Fold Cross Validation  \n",
       "0                         -             5.760000e-01  \n",
       "1                     0.876            -9.436590e+15  "
      ]
     },
     "execution_count": 18,
     "metadata": {},
     "output_type": "execute_result"
    }
   ],
   "source": [
    "features = df7.columns\n",
    "features = features.drop('Price')\n",
    "features = features.drop('Latitude')\n",
    "features = features.drop('Longitude')\n",
    "\n",
    "train_data_2,test_data_2 = train_test_split(df7,train_size = 0.8,random_state=10)\n",
    "\n",
    "complex_model_1 = linear_model.LinearRegression()\n",
    "complex_model_1.fit(train_data_2[features],train_data_2['Price'])\n",
    "\n",
    "#print('Intercept: {}'.format(complex_model_1.intercept_))\n",
    "#print('Coefficients: {}'.format(complex_model_1.coef_))\n",
    "\n",
    "pred = complex_model_1.predict(test_data_2[features])\n",
    "rmse_cm = float(format(np.sqrt(metrics.mean_squared_error(test_data_2['Price'],pred)),'.3f'))\n",
    "rtr_cm = float(format(complex_model_1.score(train_data_2[features],train_data_2['Price']),'.3f'))\n",
    "artr_cm = float(format(adjustedR2(complex_model_1.score(train_data_2[features],train_data_2['Price']),train_data_2.shape[0],len(features)),'.3f'))\n",
    "rte_cm = float(format(complex_model_1.score(test_data_2[features],test_data_2['Price']),'.3f'))\n",
    "arte_cm = float(format(adjustedR2(complex_model_1.score(test_data_2[features],test_data['Price']),test_data_2.shape[0],len(features)),'.3f'))\n",
    "cv = float(format(cross_val_score(complex_model_1,df7[features],df7['Price'],cv=5).mean(),'.3f'))\n",
    "\n",
    "r = evaluation.shape[0]\n",
    "evaluation.loc[r] = ['Multiple Regression','-',rmse_cm,rtr_cm,artr_cm,rte_cm,arte_cm,cv]\n",
    "evaluation\n",
    "# evaluation.sort_values(by = '5-Fold Cross Validation', ascending=False)"
   ]
  },
  {
   "cell_type": "markdown",
   "metadata": {
    "id": "D71FO0CU0w1t"
   },
   "source": [
    "**RIDGE REGRESSION** with hyperparameter **alpha = { 1 , 100 , 1000 }**"
   ]
  },
  {
   "cell_type": "code",
   "execution_count": 19,
   "metadata": {
    "colab": {
     "base_uri": "https://localhost:8080/",
     "height": 258
    },
    "executionInfo": {
     "elapsed": 1900,
     "status": "ok",
     "timestamp": 1637754753424,
     "user": {
      "displayName": "Lackarsu Siri Verma",
      "photoUrl": "https://lh3.googleusercontent.com/a/default-user=s64",
      "userId": "01524574898192188774"
     },
     "user_tz": -330
    },
    "id": "HqwMBZlA06YD",
    "outputId": "86255de7-3aba-47a3-a024-252e978555a2"
   },
   "outputs": [
    {
     "data": {
      "text/html": [
       "<div>\n",
       "<style scoped>\n",
       "    .dataframe tbody tr th:only-of-type {\n",
       "        vertical-align: middle;\n",
       "    }\n",
       "\n",
       "    .dataframe tbody tr th {\n",
       "        vertical-align: top;\n",
       "    }\n",
       "\n",
       "    .dataframe thead th {\n",
       "        text-align: right;\n",
       "    }\n",
       "</style>\n",
       "<table border=\"1\" class=\"dataframe\">\n",
       "  <thead>\n",
       "    <tr style=\"text-align: right;\">\n",
       "      <th></th>\n",
       "      <th>Model Name</th>\n",
       "      <th>Details</th>\n",
       "      <th>Root Mean Squared Error (RMSE)</th>\n",
       "      <th>R-squared (training)</th>\n",
       "      <th>Adjusted R-squared (training)</th>\n",
       "      <th>R-squared (test)</th>\n",
       "      <th>Adjusted R-squared (test)</th>\n",
       "      <th>5-Fold Cross Validation</th>\n",
       "    </tr>\n",
       "  </thead>\n",
       "  <tbody>\n",
       "    <tr>\n",
       "      <th>0</th>\n",
       "      <td>Simple Linear Regression</td>\n",
       "      <td>-</td>\n",
       "      <td>47.907</td>\n",
       "      <td>0.555</td>\n",
       "      <td>-</td>\n",
       "      <td>0.549</td>\n",
       "      <td>-</td>\n",
       "      <td>5.760000e-01</td>\n",
       "    </tr>\n",
       "    <tr>\n",
       "      <th>1</th>\n",
       "      <td>Multiple Regression</td>\n",
       "      <td>-</td>\n",
       "      <td>23.139</td>\n",
       "      <td>0.890</td>\n",
       "      <td>0.885</td>\n",
       "      <td>0.895</td>\n",
       "      <td>0.876</td>\n",
       "      <td>-9.436590e+15</td>\n",
       "    </tr>\n",
       "    <tr>\n",
       "      <th>2</th>\n",
       "      <td>Ridge Regression</td>\n",
       "      <td>alpha=1</td>\n",
       "      <td>23.489</td>\n",
       "      <td>0.888</td>\n",
       "      <td>0.884</td>\n",
       "      <td>0.891</td>\n",
       "      <td>0.872</td>\n",
       "      <td>5.180000e-01</td>\n",
       "    </tr>\n",
       "    <tr>\n",
       "      <th>3</th>\n",
       "      <td>Ridge Regression</td>\n",
       "      <td>alpha=100</td>\n",
       "      <td>41.156</td>\n",
       "      <td>0.678</td>\n",
       "      <td>0.665</td>\n",
       "      <td>0.667</td>\n",
       "      <td>0.607</td>\n",
       "      <td>5.290000e-01</td>\n",
       "    </tr>\n",
       "    <tr>\n",
       "      <th>4</th>\n",
       "      <td>Ridge Regression</td>\n",
       "      <td>alpha=1000</td>\n",
       "      <td>46.528</td>\n",
       "      <td>0.581</td>\n",
       "      <td>0.565</td>\n",
       "      <td>0.574</td>\n",
       "      <td>0.498</td>\n",
       "      <td>5.280000e-01</td>\n",
       "    </tr>\n",
       "  </tbody>\n",
       "</table>\n",
       "</div>"
      ],
      "text/plain": [
       "                 Model Name     Details  Root Mean Squared Error (RMSE)  \\\n",
       "0  Simple Linear Regression           -                          47.907   \n",
       "1       Multiple Regression           -                          23.139   \n",
       "2          Ridge Regression     alpha=1                          23.489   \n",
       "3          Ridge Regression   alpha=100                          41.156   \n",
       "4          Ridge Regression  alpha=1000                          46.528   \n",
       "\n",
       "   R-squared (training) Adjusted R-squared (training)  R-squared (test)  \\\n",
       "0                 0.555                             -             0.549   \n",
       "1                 0.890                         0.885             0.895   \n",
       "2                 0.888                         0.884             0.891   \n",
       "3                 0.678                         0.665             0.667   \n",
       "4                 0.581                         0.565             0.574   \n",
       "\n",
       "  Adjusted R-squared (test)  5-Fold Cross Validation  \n",
       "0                         -             5.760000e-01  \n",
       "1                     0.876            -9.436590e+15  \n",
       "2                     0.872             5.180000e-01  \n",
       "3                     0.607             5.290000e-01  \n",
       "4                     0.498             5.280000e-01  "
      ]
     },
     "execution_count": 19,
     "metadata": {},
     "output_type": "execute_result"
    }
   ],
   "source": [
    "complex_model_R = linear_model.Ridge(alpha=1)\n",
    "complex_model_R.fit(train_data_2[features],train_data_2['Price'])\n",
    "\n",
    "pred1 = complex_model_R.predict(test_data_2[features])\n",
    "rmsecm1 = float(format(np.sqrt(metrics.mean_squared_error(test_data_2['Price'],pred1)),'.3f'))\n",
    "rtrcm1 = float(format(complex_model_R.score(train_data_2[features],train_data_2['Price']),'.3f'))\n",
    "artrcm1 = float(format(adjustedR2(complex_model_R.score(train_data_2[features],train_data_2['Price']),train_data_2.shape[0],len(features)),'.3f'))\n",
    "rtecm1 = float(format(complex_model_R.score(test_data_2[features],test_data_2['Price']),'.3f'))\n",
    "artecm1 = float(format(adjustedR2(complex_model_R.score(test_data_2[features],test_data_2['Price']),test_data_2.shape[0],len(features)),'.3f'))\n",
    "cv1 = float(format(cross_val_score(complex_model_R,df7[features],df7['Price'],cv=5).mean(),'.3f'))\n",
    "\n",
    "complex_model_R = linear_model.Ridge(alpha=100)\n",
    "complex_model_R.fit(train_data_2[features],train_data_2['Price'])\n",
    "\n",
    "pred2 = complex_model_R.predict(test_data_2[features])\n",
    "rmsecm2 = float(format(np.sqrt(metrics.mean_squared_error(test_data_2['Price'],pred2)),'.3f'))\n",
    "rtrcm2 = float(format(complex_model_R.score(train_data_2[features],train_data_2['Price']),'.3f'))\n",
    "artrcm2 = float(format(adjustedR2(complex_model_R.score(train_data_2[features],train_data_2['Price']),train_data_2.shape[0],len(features)),'.3f'))\n",
    "rtecm2 = float(format(complex_model_R.score(test_data_2[features],test_data_2['Price']),'.3f'))\n",
    "artecm2 = float(format(adjustedR2(complex_model_R.score(test_data_2[features],test_data_2['Price']),test_data_2.shape[0],len(features)),'.3f'))\n",
    "cv2 = float(format(cross_val_score(complex_model_R,df7[features],df7['Price'],cv=5).mean(),'.3f'))\n",
    "\n",
    "complex_model_R = linear_model.Ridge(alpha=1000)\n",
    "complex_model_R.fit(train_data_2[features],train_data_2['Price'])\n",
    "\n",
    "pred3 = complex_model_R.predict(test_data_2[features])\n",
    "rmsecm3 = float(format(np.sqrt(metrics.mean_squared_error(test_data_2['Price'],pred3)),'.3f'))\n",
    "rtrcm3 = float(format(complex_model_R.score(train_data_2[features],train_data_2['Price']),'.3f'))\n",
    "artrcm3 = float(format(adjustedR2(complex_model_R.score(train_data_2[features],train_data_2['Price']),train_data_2.shape[0],len(features)),'.3f'))\n",
    "rtecm3 = float(format(complex_model_R.score(test_data_2[features],test_data_2['Price']),'.3f'))\n",
    "artecm3 = float(format(adjustedR2(complex_model_R.score(test_data_2[features],test_data_2['Price']),test_data_2.shape[0],len(features)),'.3f'))\n",
    "cv3 = float(format(cross_val_score(complex_model_R,df7[features],df7['Price'],cv=5).mean(),'.3f'))\n",
    "\n",
    "r = evaluation.shape[0]\n",
    "evaluation.loc[r] = ['Ridge Regression','alpha=1',rmsecm1,rtrcm1,artrcm1,rtecm1,artecm1,cv1]\n",
    "evaluation.loc[r+1] = ['Ridge Regression','alpha=100',rmsecm2,rtrcm2,artrcm2,rtecm2,artecm2,cv2]\n",
    "evaluation.loc[r+2] = ['Ridge Regression','alpha=1000',rmsecm3,rtrcm3,artrcm3,rtecm3,artecm3,cv3]\n",
    "evaluation\n",
    "# evaluation.sort_values(by = '5-Fold Cross Validation', ascending=False)"
   ]
  },
  {
   "cell_type": "markdown",
   "metadata": {
    "id": "xgFZDGMb1Iv2"
   },
   "source": [
    "**LASSO REGRESSION** with hyperparameter **alpha = { 1 , 100 , 1000 }**"
   ]
  },
  {
   "cell_type": "code",
   "execution_count": 20,
   "metadata": {
    "colab": {
     "base_uri": "https://localhost:8080/",
     "height": 352
    },
    "executionInfo": {
     "elapsed": 1968,
     "status": "ok",
     "timestamp": 1637754755377,
     "user": {
      "displayName": "Lackarsu Siri Verma",
      "photoUrl": "https://lh3.googleusercontent.com/a/default-user=s64",
      "userId": "01524574898192188774"
     },
     "user_tz": -330
    },
    "id": "7RmSeuGj1I91",
    "outputId": "f9014a16-56b8-4182-b74c-70ad661b39b7"
   },
   "outputs": [
    {
     "data": {
      "text/html": [
       "<div>\n",
       "<style scoped>\n",
       "    .dataframe tbody tr th:only-of-type {\n",
       "        vertical-align: middle;\n",
       "    }\n",
       "\n",
       "    .dataframe tbody tr th {\n",
       "        vertical-align: top;\n",
       "    }\n",
       "\n",
       "    .dataframe thead th {\n",
       "        text-align: right;\n",
       "    }\n",
       "</style>\n",
       "<table border=\"1\" class=\"dataframe\">\n",
       "  <thead>\n",
       "    <tr style=\"text-align: right;\">\n",
       "      <th></th>\n",
       "      <th>Model Name</th>\n",
       "      <th>Details</th>\n",
       "      <th>Root Mean Squared Error (RMSE)</th>\n",
       "      <th>R-squared (training)</th>\n",
       "      <th>Adjusted R-squared (training)</th>\n",
       "      <th>R-squared (test)</th>\n",
       "      <th>Adjusted R-squared (test)</th>\n",
       "      <th>5-Fold Cross Validation</th>\n",
       "    </tr>\n",
       "  </thead>\n",
       "  <tbody>\n",
       "    <tr>\n",
       "      <th>0</th>\n",
       "      <td>Simple Linear Regression</td>\n",
       "      <td>-</td>\n",
       "      <td>47.907</td>\n",
       "      <td>0.555</td>\n",
       "      <td>-</td>\n",
       "      <td>0.549</td>\n",
       "      <td>-</td>\n",
       "      <td>5.760000e-01</td>\n",
       "    </tr>\n",
       "    <tr>\n",
       "      <th>1</th>\n",
       "      <td>Multiple Regression</td>\n",
       "      <td>-</td>\n",
       "      <td>23.139</td>\n",
       "      <td>0.890</td>\n",
       "      <td>0.885</td>\n",
       "      <td>0.895</td>\n",
       "      <td>0.876</td>\n",
       "      <td>-9.436590e+15</td>\n",
       "    </tr>\n",
       "    <tr>\n",
       "      <th>2</th>\n",
       "      <td>Ridge Regression</td>\n",
       "      <td>alpha=1</td>\n",
       "      <td>23.489</td>\n",
       "      <td>0.888</td>\n",
       "      <td>0.884</td>\n",
       "      <td>0.891</td>\n",
       "      <td>0.872</td>\n",
       "      <td>5.180000e-01</td>\n",
       "    </tr>\n",
       "    <tr>\n",
       "      <th>3</th>\n",
       "      <td>Ridge Regression</td>\n",
       "      <td>alpha=100</td>\n",
       "      <td>41.156</td>\n",
       "      <td>0.678</td>\n",
       "      <td>0.665</td>\n",
       "      <td>0.667</td>\n",
       "      <td>0.607</td>\n",
       "      <td>5.290000e-01</td>\n",
       "    </tr>\n",
       "    <tr>\n",
       "      <th>4</th>\n",
       "      <td>Ridge Regression</td>\n",
       "      <td>alpha=1000</td>\n",
       "      <td>46.528</td>\n",
       "      <td>0.581</td>\n",
       "      <td>0.565</td>\n",
       "      <td>0.574</td>\n",
       "      <td>0.498</td>\n",
       "      <td>5.280000e-01</td>\n",
       "    </tr>\n",
       "    <tr>\n",
       "      <th>5</th>\n",
       "      <td>Lasso Regression</td>\n",
       "      <td>alpha=1</td>\n",
       "      <td>47.444</td>\n",
       "      <td>0.566</td>\n",
       "      <td>0.549</td>\n",
       "      <td>0.557</td>\n",
       "      <td>0.478</td>\n",
       "      <td>5.230000e-01</td>\n",
       "    </tr>\n",
       "    <tr>\n",
       "      <th>6</th>\n",
       "      <td>Lasso Regression</td>\n",
       "      <td>alpha=100</td>\n",
       "      <td>47.911</td>\n",
       "      <td>0.555</td>\n",
       "      <td>0.538</td>\n",
       "      <td>0.549</td>\n",
       "      <td>0.468</td>\n",
       "      <td>5.240000e-01</td>\n",
       "    </tr>\n",
       "    <tr>\n",
       "      <th>7</th>\n",
       "      <td>Lasso Regression</td>\n",
       "      <td>alpha=1000</td>\n",
       "      <td>47.979</td>\n",
       "      <td>0.555</td>\n",
       "      <td>0.537</td>\n",
       "      <td>0.547</td>\n",
       "      <td>0.466</td>\n",
       "      <td>5.240000e-01</td>\n",
       "    </tr>\n",
       "  </tbody>\n",
       "</table>\n",
       "</div>"
      ],
      "text/plain": [
       "                 Model Name     Details  Root Mean Squared Error (RMSE)  \\\n",
       "0  Simple Linear Regression           -                          47.907   \n",
       "1       Multiple Regression           -                          23.139   \n",
       "2          Ridge Regression     alpha=1                          23.489   \n",
       "3          Ridge Regression   alpha=100                          41.156   \n",
       "4          Ridge Regression  alpha=1000                          46.528   \n",
       "5          Lasso Regression     alpha=1                          47.444   \n",
       "6          Lasso Regression   alpha=100                          47.911   \n",
       "7          Lasso Regression  alpha=1000                          47.979   \n",
       "\n",
       "   R-squared (training) Adjusted R-squared (training)  R-squared (test)  \\\n",
       "0                 0.555                             -             0.549   \n",
       "1                 0.890                         0.885             0.895   \n",
       "2                 0.888                         0.884             0.891   \n",
       "3                 0.678                         0.665             0.667   \n",
       "4                 0.581                         0.565             0.574   \n",
       "5                 0.566                         0.549             0.557   \n",
       "6                 0.555                         0.538             0.549   \n",
       "7                 0.555                         0.537             0.547   \n",
       "\n",
       "  Adjusted R-squared (test)  5-Fold Cross Validation  \n",
       "0                         -             5.760000e-01  \n",
       "1                     0.876            -9.436590e+15  \n",
       "2                     0.872             5.180000e-01  \n",
       "3                     0.607             5.290000e-01  \n",
       "4                     0.498             5.280000e-01  \n",
       "5                     0.478             5.230000e-01  \n",
       "6                     0.468             5.240000e-01  \n",
       "7                     0.466             5.240000e-01  "
      ]
     },
     "execution_count": 20,
     "metadata": {},
     "output_type": "execute_result"
    }
   ],
   "source": [
    "complex_model_L = linear_model.Lasso(alpha=1)\n",
    "complex_model_L.fit(train_data_2[features],train_data_2['Price'])\n",
    "\n",
    "pred1 = complex_model_L.predict(test_data_2[features])\n",
    "rmsecm1 = float(format(np.sqrt(metrics.mean_squared_error(test_data_2['Price'],pred1)),'.3f'))\n",
    "rtrcm1 = float(format(complex_model_L.score(train_data_2[features],train_data_2['Price']),'.3f'))\n",
    "artrcm1 = float(format(adjustedR2(complex_model_L.score(train_data_2[features],train_data_2['Price']),train_data_2.shape[0],len(features)),'.3f'))\n",
    "rtecm1 = float(format(complex_model_L.score(test_data_2[features],test_data_2['Price']),'.3f'))\n",
    "artecm1 = float(format(adjustedR2(complex_model_L.score(test_data_2[features],test_data_2['Price']),test_data_2.shape[0],len(features)),'.3f'))\n",
    "cv1 = float(format(cross_val_score(complex_model_L,df7[features],df7['Price'],cv=5).mean(),'.3f'))\n",
    "\n",
    "complex_model_L = linear_model.Lasso(alpha=100)\n",
    "complex_model_L.fit(train_data_2[features],train_data_2['Price'])\n",
    "\n",
    "pred2 = complex_model_L.predict(test_data_2[features])\n",
    "rmsecm2 = float(format(np.sqrt(metrics.mean_squared_error(test_data_2['Price'],pred2)),'.3f'))\n",
    "rtrcm2 = float(format(complex_model_L.score(train_data_2[features],train_data_2['Price']),'.3f'))\n",
    "artrcm2 = float(format(adjustedR2(complex_model_L.score(train_data_2[features],train_data_2['Price']),train_data_2.shape[0],len(features)),'.3f'))\n",
    "rtecm2 = float(format(complex_model_L.score(test_data_2[features],test_data_2['Price']),'.3f'))\n",
    "artecm2 = float(format(adjustedR2(complex_model_L.score(test_data_2[features],test_data_2['Price']),test_data_2.shape[0],len(features)),'.3f'))\n",
    "cv2 = float(format(cross_val_score(complex_model_L,df7[features],df7['Price'],cv=5).mean(),'.3f'))\n",
    "\n",
    "complex_model_L = linear_model.Lasso(alpha=1000)\n",
    "complex_model_L.fit(train_data_2[features],train_data_2['Price'])\n",
    "\n",
    "pred3 = complex_model_L.predict(test_data_2[features])\n",
    "rmsecm3 = float(format(np.sqrt(metrics.mean_squared_error(test_data_2['Price'],pred3)),'.3f'))\n",
    "rtrcm3 = float(format(complex_model_L.score(train_data_2[features],train_data_2['Price']),'.3f'))\n",
    "artrcm3 = float(format(adjustedR2(complex_model_L.score(train_data_2[features],train_data_2['Price']),train_data_2.shape[0],len(features)),'.3f'))\n",
    "rtecm3 = float(format(complex_model_L.score(test_data_2[features],test_data_2['Price']),'.3f'))\n",
    "artecm3 = float(format(adjustedR2(complex_model_L.score(test_data_2[features],test_data_2['Price']),test_data_2.shape[0],len(features)),'.3f'))\n",
    "cv3 = float(format(cross_val_score(complex_model_L,df7[features],df7['Price'],cv=5).mean(),'.3f'))\n",
    "\n",
    "r = evaluation.shape[0]\n",
    "evaluation.loc[r] = ['Lasso Regression','alpha=1',rmsecm1,rtrcm1,artrcm1,rtecm1,artecm1,cv1]\n",
    "evaluation.loc[r+1] = ['Lasso Regression','alpha=100',rmsecm2,rtrcm2,artrcm2,rtecm2,artecm2,cv2]\n",
    "evaluation.loc[r+2] = ['Lasso Regression','alpha=1000',rmsecm3,rtrcm3,artrcm3,rtecm3,artecm3,cv3]\n",
    "evaluation\n",
    "# evaluation.sort_values(by = '5-Fold Cross Validation', ascending=False)"
   ]
  },
  {
   "cell_type": "markdown",
   "metadata": {
    "id": "r9mYMgJZhuSO"
   },
   "source": [
    "**POLYNOMIAL REGRESSION** with selected features"
   ]
  },
  {
   "cell_type": "code",
   "execution_count": 21,
   "metadata": {
    "colab": {
     "base_uri": "https://localhost:8080/",
     "height": 276
    },
    "executionInfo": {
     "elapsed": 2671,
     "status": "ok",
     "timestamp": 1637754791773,
     "user": {
      "displayName": "Lackarsu Siri Verma",
      "photoUrl": "https://lh3.googleusercontent.com/a/default-user=s64",
      "userId": "01524574898192188774"
     },
     "user_tz": -330
    },
    "id": "3C1LQQf9hPng",
    "outputId": "ef729fa5-06bd-483d-c168-e93c9e40dce0"
   },
   "outputs": [
    {
     "data": {
      "text/html": [
       "<div>\n",
       "<style scoped>\n",
       "    .dataframe tbody tr th:only-of-type {\n",
       "        vertical-align: middle;\n",
       "    }\n",
       "\n",
       "    .dataframe tbody tr th {\n",
       "        vertical-align: top;\n",
       "    }\n",
       "\n",
       "    .dataframe thead th {\n",
       "        text-align: right;\n",
       "    }\n",
       "</style>\n",
       "<table border=\"1\" class=\"dataframe\">\n",
       "  <thead>\n",
       "    <tr style=\"text-align: right;\">\n",
       "      <th></th>\n",
       "      <th>Model</th>\n",
       "      <th>Details</th>\n",
       "      <th>Root Mean Squared Error (RMSE)</th>\n",
       "      <th>R-squared (training)</th>\n",
       "      <th>R-squared (test)</th>\n",
       "      <th>5-Fold Cross Validation</th>\n",
       "    </tr>\n",
       "  </thead>\n",
       "  <tbody>\n",
       "    <tr>\n",
       "      <th>1</th>\n",
       "      <td>Polynomial Regression</td>\n",
       "      <td>degree=3, all features</td>\n",
       "      <td>41.692</td>\n",
       "      <td>0.587</td>\n",
       "      <td>0.607</td>\n",
       "      <td>0.528</td>\n",
       "    </tr>\n",
       "    <tr>\n",
       "      <th>0</th>\n",
       "      <td>Polynomial Regression</td>\n",
       "      <td>degree=2, all features</td>\n",
       "      <td>41.688</td>\n",
       "      <td>0.574</td>\n",
       "      <td>0.607</td>\n",
       "      <td>0.526</td>\n",
       "    </tr>\n",
       "    <tr>\n",
       "      <th>4</th>\n",
       "      <td>Polynomial Lasso Regression</td>\n",
       "      <td>alpha=50000, degree=3, all features</td>\n",
       "      <td>42.978</td>\n",
       "      <td>0.566</td>\n",
       "      <td>0.582</td>\n",
       "      <td>0.525</td>\n",
       "    </tr>\n",
       "    <tr>\n",
       "      <th>3</th>\n",
       "      <td>Polynomial Lasso Regression</td>\n",
       "      <td>alpha=1, degree=2, all features</td>\n",
       "      <td>42.488</td>\n",
       "      <td>0.559</td>\n",
       "      <td>0.592</td>\n",
       "      <td>0.520</td>\n",
       "    </tr>\n",
       "    <tr>\n",
       "      <th>2</th>\n",
       "      <td>Polynomial Ridge Regression</td>\n",
       "      <td>alpha=50000, degree=2, all features</td>\n",
       "      <td>42.504</td>\n",
       "      <td>0.559</td>\n",
       "      <td>0.591</td>\n",
       "      <td>0.519</td>\n",
       "    </tr>\n",
       "  </tbody>\n",
       "</table>\n",
       "</div>"
      ],
      "text/plain": [
       "                         Model                              Details  \\\n",
       "1        Polynomial Regression               degree=3, all features   \n",
       "0        Polynomial Regression               degree=2, all features   \n",
       "4  Polynomial Lasso Regression  alpha=50000, degree=3, all features   \n",
       "3  Polynomial Lasso Regression      alpha=1, degree=2, all features   \n",
       "2  Polynomial Ridge Regression  alpha=50000, degree=2, all features   \n",
       "\n",
       "   Root Mean Squared Error (RMSE)  R-squared (training)  R-squared (test)  \\\n",
       "1                          41.692                 0.587             0.607   \n",
       "0                          41.688                 0.574             0.607   \n",
       "4                          42.978                 0.566             0.582   \n",
       "3                          42.488                 0.559             0.592   \n",
       "2                          42.504                 0.559             0.591   \n",
       "\n",
       "   5-Fold Cross Validation  \n",
       "1                    0.528  \n",
       "0                    0.526  \n",
       "4                    0.525  \n",
       "3                    0.520  \n",
       "2                    0.519  "
      ]
     },
     "execution_count": 21,
     "metadata": {},
     "output_type": "execute_result"
    }
   ],
   "source": [
    "evaluation_poly = pd.DataFrame({'Model': [],\n",
    "                                'Details':[],\n",
    "                                'Root Mean Squared Error (RMSE)':[],\n",
    "                                'R-squared (training)':[],\n",
    "                                'Adjusted R-squared (training)':[],\n",
    "                                'R-squared (test)':[],\n",
    "                                'Adjusted R-squared (test)':[],\n",
    "                                '5-Fold Cross Validation':[]})\n",
    "\n",
    "#features = ['Area', 'No. of Bedrooms', 'Latitude', 'Longitude']\n",
    "features = ['Area', 'No. of Bedrooms', 'Gymnasium', 'CarParking', 'Hospital']\n",
    "#features = ['Area']\n",
    "# features = ['Area','No. of Bedrooms','SwimmingPool','PowerBackup','Gasconnection','AC',\"Children'splayarea\"]\n",
    "\n",
    "\n",
    "\n",
    "\n",
    "train_data,test_data = train_test_split(df7,train_size = 0.8,random_state=5)\n",
    "\n",
    "\n",
    "polyfeat = PolynomialFeatures(degree=2)\n",
    "X_allpoly = polyfeat.fit_transform(df7[features])\n",
    "X_trainpoly = polyfeat.fit_transform(train_data[features])\n",
    "X_testpoly = polyfeat.fit_transform(test_data[features])\n",
    "poly = linear_model.LinearRegression().fit(X_trainpoly, train_data['Price'])\n",
    "\n",
    "pred1 = poly.predict(X_testpoly)\n",
    "rmsepoly1 = float(format(np.sqrt(metrics.mean_squared_error(test_data['Price'],pred1)),'.3f'))\n",
    "rtrpoly1 = float(format(poly.score(X_trainpoly,train_data['Price']),'.3f'))\n",
    "rtepoly1 = float(format(poly.score(X_testpoly,test_data['Price']),'.3f'))\n",
    "cv1 = float(format(cross_val_score(linear_model.LinearRegression(),X_allpoly,df7['Price'],cv=5).mean(),'.3f'))\n",
    "\n",
    "polyfeat = PolynomialFeatures(degree=3)\n",
    "X_allpoly = polyfeat.fit_transform(df7[features])\n",
    "X_trainpoly = polyfeat.fit_transform(train_data[features])\n",
    "X_testpoly = polyfeat.fit_transform(test_data[features])\n",
    "poly = linear_model.LinearRegression().fit(X_trainpoly, train_data['Price'])\n",
    "\n",
    "pred2 = poly.predict(X_testpoly)\n",
    "rmsepoly2 = float(format(np.sqrt(metrics.mean_squared_error(test_data['Price'],pred2)),'.3f'))\n",
    "rtrpoly2 = float(format(poly.score(X_trainpoly,train_data['Price']),'.3f'))\n",
    "rtepoly2 = float(format(poly.score(X_testpoly,test_data['Price']),'.3f'))\n",
    "cv2 = float(format(cross_val_score(linear_model.LinearRegression(),X_allpoly,df7['Price'],cv=5).mean(),'.3f'))\n",
    "\n",
    "###############################################################################################################################\n",
    "polyfeat = PolynomialFeatures(degree=2)\n",
    "X_allpoly = polyfeat.fit_transform(df7[features])\n",
    "X_trainpoly = polyfeat.fit_transform(train_data[features])\n",
    "X_testpoly = polyfeat.fit_transform(test_data[features])\n",
    "poly = linear_model.Ridge(alpha=50000, tol=0.001).fit(X_trainpoly, train_data['Price'])\n",
    "\n",
    "pred7 = poly.predict(X_testpoly)\n",
    "rmsepoly7 = float(format(np.sqrt(metrics.mean_squared_error(test_data['Price'],pred7)),'.3f'))\n",
    "rtrpoly7 = float(format(poly.score(X_trainpoly,train_data['Price']),'.3f'))\n",
    "rtepoly7 = float(format(poly.score(X_testpoly,test_data['Price']),'.3f'))\n",
    "cv7 = float(format(cross_val_score(linear_model.Ridge(alpha=50000, tol=0.001),X_allpoly,df7['Price'],cv=5).mean(),'.3f'))\n",
    "\n",
    "polyfeat = PolynomialFeatures(degree=2)\n",
    "X_allpoly = polyfeat.fit_transform(df7[features])\n",
    "X_trainpoly = polyfeat.fit_transform(train_data[features])\n",
    "X_testpoly = polyfeat.fit_transform(test_data[features])\n",
    "poly = linear_model.Lasso(alpha=1, tol=0.001).fit(X_trainpoly, train_data['Price'])\n",
    "\n",
    "pred8 = poly.predict(X_testpoly)\n",
    "rmsepoly8 = float(format(np.sqrt(metrics.mean_squared_error(test_data['Price'],pred8)),'.3f'))\n",
    "rtrpoly8 = float(format(poly.score(X_trainpoly,train_data['Price']),'.3f'))\n",
    "rtepoly8 = float(format(poly.score(X_testpoly,test_data['Price']),'.3f'))\n",
    "cv8 = float(format(cross_val_score(linear_model.Lasso(alpha=1, tol=0.001),X_allpoly,df7['Price'],cv=5).mean(),'.3f'))\n",
    "\n",
    "polyfeat = PolynomialFeatures(degree=3)\n",
    "X_allpoly = polyfeat.fit_transform(df7[features])\n",
    "X_trainpoly = polyfeat.fit_transform(train_data[features])\n",
    "X_testpoly = polyfeat.fit_transform(test_data[features])\n",
    "poly = linear_model.Lasso(alpha=50000, tol=0.001).fit(X_trainpoly, train_data['Price'])\n",
    "\n",
    "pred9 = poly.predict(X_testpoly)\n",
    "rmsepoly9 = float(format(np.sqrt(metrics.mean_squared_error(test_data['Price'],pred9)),'.3f'))\n",
    "rtrpoly9 = float(format(poly.score(X_trainpoly,train_data['Price']),'.3f'))\n",
    "rtepoly9 = float(format(poly.score(X_testpoly,test_data['Price']),'.3f'))\n",
    "cv9 = float(format(cross_val_score(linear_model.Lasso(alpha=50000, tol=0.001),X_allpoly,df7['Price'],cv=5).mean(),'.3f'))\n",
    "\n",
    "r = evaluation_poly.shape[0]\n",
    "evaluation_poly.loc[r] = ['Polynomial Regression','degree=2, all features',rmsepoly1,rtrpoly1,'-',rtepoly1,'-',cv1]\n",
    "evaluation_poly.loc[r+1] = ['Polynomial Regression','degree=3, all features',rmsepoly2,rtrpoly2,'-',rtepoly2,'-',(cv2)]\n",
    "evaluation_poly.loc[r+2] = ['Polynomial Ridge Regression','alpha=50000, degree=2, all features',rmsepoly7,rtrpoly7,'-',rtepoly7,'-',cv7]\n",
    "evaluation_poly.loc[r+3] = ['Polynomial Lasso Regression','alpha=1, degree=2, all features',rmsepoly8,rtrpoly8,'-',rtepoly8,'-',cv8]\n",
    "evaluation_poly.loc[r+4] = ['Polynomial Lasso Regression','alpha=50000, degree=3, all features',rmsepoly9,rtrpoly9,'-',rtepoly9,'-',cv9]\n",
    "evaluation_poly_temp = evaluation_poly[['Model','Details','Root Mean Squared Error (RMSE)','R-squared (training)','R-squared (test)','5-Fold Cross Validation']]\n",
    "evaluation_poly_temp.sort_values(by = '5-Fold Cross Validation', ascending=False)"
   ]
  },
  {
   "cell_type": "markdown",
   "metadata": {
    "id": "6OW8Ov0viTqZ"
   },
   "source": [
    "# Our final model - **Ridge Regression alpha=1** "
   ]
  },
  {
   "cell_type": "code",
   "execution_count": 22,
   "metadata": {
    "colab": {
     "base_uri": "https://localhost:8080/"
    },
    "executionInfo": {
     "elapsed": 831,
     "status": "ok",
     "timestamp": 1637758464241,
     "user": {
      "displayName": "Lackarsu Siri Verma",
      "photoUrl": "https://lh3.googleusercontent.com/a/default-user=s64",
      "userId": "01524574898192188774"
     },
     "user_tz": -330
    },
    "id": "XlFj9pomifaN",
    "outputId": "bdd8a93b-73bd-473f-e186-e8f41bc88aeb"
   },
   "outputs": [
    {
     "data": {
      "text/plain": [
       "Ridge(alpha=1)"
      ]
     },
     "execution_count": 22,
     "metadata": {},
     "output_type": "execute_result"
    }
   ],
   "source": [
    "features = df7.columns\n",
    "features = features.drop('Price')\n",
    "features = features.drop('Latitude')\n",
    "features = features.drop('Longitude')\n",
    "\n",
    "train_data_2,test_data_2 = train_test_split(df7,train_size = 0.8,random_state=10)\n",
    "\n",
    "complex_model_R7 = linear_model.Ridge(alpha=1)\n",
    "complex_model_R7.fit(train_data_2[features],train_data_2['Price'])"
   ]
  },
  {
   "cell_type": "markdown",
   "metadata": {
    "id": "o-bZQi6JjoL8"
   },
   "source": [
    "**Making dependent dropdown widget**"
   ]
  },
  {
   "cell_type": "code",
   "execution_count": 23,
   "metadata": {
    "executionInfo": {
     "elapsed": 759,
     "status": "ok",
     "timestamp": 1637755116627,
     "user": {
      "displayName": "Lackarsu Siri Verma",
      "photoUrl": "https://lh3.googleusercontent.com/a/default-user=s64",
      "userId": "01524574898192188774"
     },
     "user_tz": -330
    },
    "id": "oLqw6iYRxpqY"
   },
   "outputs": [],
   "source": [
    "from __future__ import print_function\n",
    "from ipywidgets import interact, interactive, fixed, interact_manual\n",
    "import ipywidgets as widgets\n",
    "from IPython.display import *\n",
    "import ipywidgets as widgets\n",
    "from ipywidgets import *\n",
    "\n",
    "import folium\n",
    "from folium import Choropleth, Circle, Marker\n",
    "from folium.plugins import HeatMap, MarkerCluster\n",
    "from IPython.display import Markdown, display"
   ]
  },
  {
   "cell_type": "code",
   "execution_count": 24,
   "metadata": {
    "executionInfo": {
     "elapsed": 575,
     "status": "ok",
     "timestamp": 1637755143694,
     "user": {
      "displayName": "Lackarsu Siri Verma",
      "photoUrl": "https://lh3.googleusercontent.com/a/default-user=s64",
      "userId": "01524574898192188774"
     },
     "user_tz": -330
    },
    "id": "gPmoHYE2jued"
   },
   "outputs": [],
   "source": [
    "df_widget = df3.copy()\n",
    "df_widget = df_widget.drop(['Price', 'Area', 'No. of Bedrooms', 'Gymnasium', 'CarParking', 'Hospital'],axis=1)\n",
    "City_list = ['Mumbai', 'Banglore','Hyderabad','Kolkata','Chennai','Delhi']\n",
    "\n",
    "df_city = df_widget[df_widget['City']=='Delhi']\n",
    "list_Delhi = df_city['Location'].unique().tolist()\n",
    "\n",
    "df_city = df_widget[df_widget['City']=='Chennai']\n",
    "list_Chenn = df_city['Location'].unique().tolist()\n",
    "\n",
    "df_city = df_widget[df_widget['City']=='Kolkata']\n",
    "list_Kol = df_city['Location'].unique().tolist()\n",
    "\n",
    "df_city = df_widget[df_widget['City']=='Hyderabad']\n",
    "list_Hyd = df_city['Location'].unique().tolist()\n",
    "\n",
    "df_city = df_widget[df_widget['City']=='Banglore']\n",
    "list_Bang = df_city['Location'].unique().tolist()\n",
    "\n",
    "df_city = df_widget[df_widget['City']=='Mumbai']\n",
    "list_Mum = df_city['Location'].unique().tolist()\n",
    "\n",
    "df_CityWidget = pd.DataFrame([ list_Mum, list_Bang, list_Hyd, list_Kol, list_Chenn, list_Delhi], index = City_list).transpose()\n",
    "\n",
    "\n",
    "c_widget = Dropdown(options = City_list) \n",
    "l_widget = Dropdown()\n",
    "\n",
    "# Define a function that updates the content of y based on what we select for x\n",
    "def update(*args):\n",
    "    l_widget.options = df_CityWidget[c_widget.value].unique().tolist() \n",
    "    \n",
    "c_widget.observe(update)\n",
    "\n",
    "# Some function you want executed\n",
    "def random_function(c,l):\n",
    "    print('c=',c,' and l=',l)\n"
   ]
  },
  {
   "cell_type": "markdown",
   "metadata": {
    "id": "dIpLe6Hux48b"
   },
   "source": [
    "**Predicting price and displaying heat map:**"
   ]
  },
  {
   "cell_type": "code",
   "execution_count": 25,
   "metadata": {
    "executionInfo": {
     "elapsed": 638,
     "status": "ok",
     "timestamp": 1637755150850,
     "user": {
      "displayName": "Lackarsu Siri Verma",
      "photoUrl": "https://lh3.googleusercontent.com/a/default-user=s64",
      "userId": "01524574898192188774"
     },
     "user_tz": -330
    },
    "id": "Y4eZ1xlYkgkz"
   },
   "outputs": [],
   "source": [
    "def Predict_Price(Area, Bedrooms, City, location, Gym=0, Car=0, Hospital=0  ) :\n",
    "    #Location might not be in features, so we've to check it\n",
    "    if location in features :\n",
    "        x7 = np.zeros(len(features))\n",
    "        x7[0] = Area\n",
    "        x7[1] = Bedrooms\n",
    "        x7[2] = Gym       #0/1\n",
    "        x7[3] = Car       #0/1\n",
    "        x7[4] = Hospital  #0/1\n",
    "        loc_index = np.where(train_data_2[features].columns==location)[0][0]\n",
    "        x7[loc_index] = 1\n",
    "                       \n",
    "        prediction7 = complex_model_R7.predict(x7.reshape(1,-1))\n",
    "        print(\"Price is \\u20B9\",float(\"{:.2f}\".format(prediction7[0])),\"Lakhs\")\n",
    "        \n",
    "        \n",
    "        #Heatmap of all places in given City with marker at particlar location\n",
    "        df_city = df3[df3['City']==City]\n",
    "        lat_long = location_to_code[location]\n",
    "        city_map = folium.Map(location=lat_long, zoom_start=10, tiles='cartodbpositron')\n",
    "        mc=MarkerCluster()\n",
    "        for idx, row in df_city.iterrows():\n",
    "            mc.add_child(Marker((row['Latitude'], row['Longitude'])))\n",
    "        folium.Marker( location=lat_long, popup=\"\\u20B9\"+str(float(\"{:.2f}\".format(prediction7[0])))+\" Lakhs\").add_to(city_map)\n",
    "        city_map.add_child(mc)\n",
    "        display(city_map)\n",
    "    \n",
    "    else :\n",
    "        print('Enter location only from the given list!')\n",
    "    "
   ]
  },
  {
   "cell_type": "code",
   "execution_count": 26,
   "metadata": {
    "colab": {
     "base_uri": "https://localhost:8080/",
     "height": 328,
     "referenced_widgets": [
      "1e4250df0aea4795b40c2a413739340c",
      "c5fddabcbdab48cc838e79a461c268de",
      "06f3abe6f7844e7782f980cab66c58de",
      "8f36b3e790fb42d5a1dd937a088c7187",
      "85d3c33a36fd46789cb8b9a592bfdeaf",
      "b38ea11fe9ab44c191c044b47e4db57c",
      "0cc0b8d8f2c04b5b9729c3f401957002",
      "75b78e8eb4c24cdb91e85e5806f5d43c",
      "f9371016399747ceb1ebed9fad5c919d",
      "a33bf541b1bd4dd3915a29be3282f1d9",
      "6daf7b8ceccd433d8117985d4e9a7ea7",
      "0ff32ca9ed714294a9cea6b210520824",
      "2c980f2e123248b986d6b0a899d562b2",
      "eaff23b9638f4b09ad110610ab2d7033",
      "80ec09fecac249aab0327b5a45113043",
      "e2230a6aba4146f3ab40bedd253a5fb9",
      "a52079763f6b494a9bc63f002fe3939f",
      "0d99518754f043f5a3a38fe33028fa10",
      "90d67b5b9b434f04b5bb71bafa25c1bf",
      "6322e3cc9def442cb5219a0c8ce6a70a",
      "faf9559b43be4b768df113158ccee0a9",
      "e30027c9eaca43d9a4e8649e20d51221",
      "e92798229491451b830850ebd55b7e43",
      "9334a73ecefe49f1b4f4b6bc76f1829a",
      "7f0b228352574f7a807a42fadb63ea3c"
     ]
    },
    "executionInfo": {
     "elapsed": 645,
     "status": "ok",
     "timestamp": 1637755159989,
     "user": {
      "displayName": "Lackarsu Siri Verma",
      "photoUrl": "https://lh3.googleusercontent.com/a/default-user=s64",
      "userId": "01524574898192188774"
     },
     "user_tz": -330
    },
    "id": "7taSsWpZyOWz",
    "outputId": "8987395a-8a6c-484b-ae1e-e92942ea8464"
   },
   "outputs": [
    {
     "data": {
      "application/vnd.jupyter.widget-view+json": {
       "model_id": "a0c9c7b51d0941d6ab3c49bbee918ac5",
       "version_major": 2,
       "version_minor": 0
      },
      "text/plain": [
       "interactive(children=(IntSlider(value=2700, description='Area', max=5000, min=400), IntSlider(value=6, descrip…"
      ]
     },
     "metadata": {},
     "output_type": "display_data"
    }
   ],
   "source": [
    "interact(Predict_Price, Area=(400,5000), Bedrooms=widgets.IntSlider(min=1, max=6, step=1, value=10), \n",
    "         City=c_widget,location=l_widget);"
   ]
  },
  {
   "cell_type": "code",
   "execution_count": null,
   "metadata": {},
   "outputs": [],
   "source": []
  }
 ],
 "metadata": {
  "colab": {
   "collapsed_sections": [
    "yFWC1TyciRfc",
    "3VDQAxdfiayh",
    "h8-fSnvLidIH"
   ],
   "name": "Untitled0.ipynb",
   "provenance": []
  },
  "kernelspec": {
   "display_name": "Python 3",
   "language": "python",
   "name": "python3"
  },
  "language_info": {
   "codemirror_mode": {
    "name": "ipython",
    "version": 3
   },
   "file_extension": ".py",
   "mimetype": "text/x-python",
   "name": "python",
   "nbconvert_exporter": "python",
   "pygments_lexer": "ipython3",
   "version": "3.8.8"
  },
  "widgets": {
   "application/vnd.jupyter.widget-state+json": {
    "06f3abe6f7844e7782f980cab66c58de": {
     "model_module": "@jupyter-widgets/controls",
     "model_module_version": "1.5.0",
     "model_name": "IntSliderModel",
     "state": {
      "_dom_classes": [],
      "_model_module": "@jupyter-widgets/controls",
      "_model_module_version": "1.5.0",
      "_model_name": "IntSliderModel",
      "_view_count": null,
      "_view_module": "@jupyter-widgets/controls",
      "_view_module_version": "1.5.0",
      "_view_name": "IntSliderView",
      "continuous_update": true,
      "description": "Area",
      "description_tooltip": null,
      "disabled": false,
      "layout": "IPY_MODEL_0ff32ca9ed714294a9cea6b210520824",
      "max": 5000,
      "min": 400,
      "orientation": "horizontal",
      "readout": true,
      "readout_format": "d",
      "step": 1,
      "style": "IPY_MODEL_6daf7b8ceccd433d8117985d4e9a7ea7",
      "value": 2700
     }
    },
    "0cc0b8d8f2c04b5b9729c3f401957002": {
     "model_module": "@jupyter-widgets/controls",
     "model_module_version": "1.5.0",
     "model_name": "IntSliderModel",
     "state": {
      "_dom_classes": [],
      "_model_module": "@jupyter-widgets/controls",
      "_model_module_version": "1.5.0",
      "_model_name": "IntSliderModel",
      "_view_count": null,
      "_view_module": "@jupyter-widgets/controls",
      "_view_module_version": "1.5.0",
      "_view_name": "IntSliderView",
      "continuous_update": true,
      "description": "Gym",
      "description_tooltip": null,
      "disabled": false,
      "layout": "IPY_MODEL_6322e3cc9def442cb5219a0c8ce6a70a",
      "max": 1,
      "min": 0,
      "orientation": "horizontal",
      "readout": true,
      "readout_format": "d",
      "step": 1,
      "style": "IPY_MODEL_90d67b5b9b434f04b5bb71bafa25c1bf",
      "value": 0
     }
    },
    "0d99518754f043f5a3a38fe33028fa10": {
     "model_module": "@jupyter-widgets/base",
     "model_module_version": "1.2.0",
     "model_name": "LayoutModel",
     "state": {
      "_model_module": "@jupyter-widgets/base",
      "_model_module_version": "1.2.0",
      "_model_name": "LayoutModel",
      "_view_count": null,
      "_view_module": "@jupyter-widgets/base",
      "_view_module_version": "1.2.0",
      "_view_name": "LayoutView",
      "align_content": null,
      "align_items": null,
      "align_self": null,
      "border": null,
      "bottom": null,
      "display": null,
      "flex": null,
      "flex_flow": null,
      "grid_area": null,
      "grid_auto_columns": null,
      "grid_auto_flow": null,
      "grid_auto_rows": null,
      "grid_column": null,
      "grid_gap": null,
      "grid_row": null,
      "grid_template_areas": null,
      "grid_template_columns": null,
      "grid_template_rows": null,
      "height": null,
      "justify_content": null,
      "justify_items": null,
      "left": null,
      "margin": null,
      "max_height": null,
      "max_width": null,
      "min_height": null,
      "min_width": null,
      "object_fit": null,
      "object_position": null,
      "order": null,
      "overflow": null,
      "overflow_x": null,
      "overflow_y": null,
      "padding": null,
      "right": null,
      "top": null,
      "visibility": null,
      "width": null
     }
    },
    "0ff32ca9ed714294a9cea6b210520824": {
     "model_module": "@jupyter-widgets/base",
     "model_module_version": "1.2.0",
     "model_name": "LayoutModel",
     "state": {
      "_model_module": "@jupyter-widgets/base",
      "_model_module_version": "1.2.0",
      "_model_name": "LayoutModel",
      "_view_count": null,
      "_view_module": "@jupyter-widgets/base",
      "_view_module_version": "1.2.0",
      "_view_name": "LayoutView",
      "align_content": null,
      "align_items": null,
      "align_self": null,
      "border": null,
      "bottom": null,
      "display": null,
      "flex": null,
      "flex_flow": null,
      "grid_area": null,
      "grid_auto_columns": null,
      "grid_auto_flow": null,
      "grid_auto_rows": null,
      "grid_column": null,
      "grid_gap": null,
      "grid_row": null,
      "grid_template_areas": null,
      "grid_template_columns": null,
      "grid_template_rows": null,
      "height": null,
      "justify_content": null,
      "justify_items": null,
      "left": null,
      "margin": null,
      "max_height": null,
      "max_width": null,
      "min_height": null,
      "min_width": null,
      "object_fit": null,
      "object_position": null,
      "order": null,
      "overflow": null,
      "overflow_x": null,
      "overflow_y": null,
      "padding": null,
      "right": null,
      "top": null,
      "visibility": null,
      "width": null
     }
    },
    "1e4250df0aea4795b40c2a413739340c": {
     "model_module": "@jupyter-widgets/controls",
     "model_module_version": "1.5.0",
     "model_name": "VBoxModel",
     "state": {
      "_dom_classes": [
       "widget-interact"
      ],
      "_model_module": "@jupyter-widgets/controls",
      "_model_module_version": "1.5.0",
      "_model_name": "VBoxModel",
      "_view_count": null,
      "_view_module": "@jupyter-widgets/controls",
      "_view_module_version": "1.5.0",
      "_view_name": "VBoxView",
      "box_style": "",
      "children": [
       "IPY_MODEL_06f3abe6f7844e7782f980cab66c58de",
       "IPY_MODEL_8f36b3e790fb42d5a1dd937a088c7187",
       "IPY_MODEL_85d3c33a36fd46789cb8b9a592bfdeaf",
       "IPY_MODEL_b38ea11fe9ab44c191c044b47e4db57c",
       "IPY_MODEL_0cc0b8d8f2c04b5b9729c3f401957002",
       "IPY_MODEL_75b78e8eb4c24cdb91e85e5806f5d43c",
       "IPY_MODEL_f9371016399747ceb1ebed9fad5c919d",
       "IPY_MODEL_a33bf541b1bd4dd3915a29be3282f1d9"
      ],
      "layout": "IPY_MODEL_c5fddabcbdab48cc838e79a461c268de"
     }
    },
    "2c980f2e123248b986d6b0a899d562b2": {
     "model_module": "@jupyter-widgets/controls",
     "model_module_version": "1.5.0",
     "model_name": "SliderStyleModel",
     "state": {
      "_model_module": "@jupyter-widgets/controls",
      "_model_module_version": "1.5.0",
      "_model_name": "SliderStyleModel",
      "_view_count": null,
      "_view_module": "@jupyter-widgets/base",
      "_view_module_version": "1.2.0",
      "_view_name": "StyleView",
      "description_width": "",
      "handle_color": null
     }
    },
    "6322e3cc9def442cb5219a0c8ce6a70a": {
     "model_module": "@jupyter-widgets/base",
     "model_module_version": "1.2.0",
     "model_name": "LayoutModel",
     "state": {
      "_model_module": "@jupyter-widgets/base",
      "_model_module_version": "1.2.0",
      "_model_name": "LayoutModel",
      "_view_count": null,
      "_view_module": "@jupyter-widgets/base",
      "_view_module_version": "1.2.0",
      "_view_name": "LayoutView",
      "align_content": null,
      "align_items": null,
      "align_self": null,
      "border": null,
      "bottom": null,
      "display": null,
      "flex": null,
      "flex_flow": null,
      "grid_area": null,
      "grid_auto_columns": null,
      "grid_auto_flow": null,
      "grid_auto_rows": null,
      "grid_column": null,
      "grid_gap": null,
      "grid_row": null,
      "grid_template_areas": null,
      "grid_template_columns": null,
      "grid_template_rows": null,
      "height": null,
      "justify_content": null,
      "justify_items": null,
      "left": null,
      "margin": null,
      "max_height": null,
      "max_width": null,
      "min_height": null,
      "min_width": null,
      "object_fit": null,
      "object_position": null,
      "order": null,
      "overflow": null,
      "overflow_x": null,
      "overflow_y": null,
      "padding": null,
      "right": null,
      "top": null,
      "visibility": null,
      "width": null
     }
    },
    "6daf7b8ceccd433d8117985d4e9a7ea7": {
     "model_module": "@jupyter-widgets/controls",
     "model_module_version": "1.5.0",
     "model_name": "SliderStyleModel",
     "state": {
      "_model_module": "@jupyter-widgets/controls",
      "_model_module_version": "1.5.0",
      "_model_name": "SliderStyleModel",
      "_view_count": null,
      "_view_module": "@jupyter-widgets/base",
      "_view_module_version": "1.2.0",
      "_view_name": "StyleView",
      "description_width": "",
      "handle_color": null
     }
    },
    "75b78e8eb4c24cdb91e85e5806f5d43c": {
     "model_module": "@jupyter-widgets/controls",
     "model_module_version": "1.5.0",
     "model_name": "IntSliderModel",
     "state": {
      "_dom_classes": [],
      "_model_module": "@jupyter-widgets/controls",
      "_model_module_version": "1.5.0",
      "_model_name": "IntSliderModel",
      "_view_count": null,
      "_view_module": "@jupyter-widgets/controls",
      "_view_module_version": "1.5.0",
      "_view_name": "IntSliderView",
      "continuous_update": true,
      "description": "Car",
      "description_tooltip": null,
      "disabled": false,
      "layout": "IPY_MODEL_e30027c9eaca43d9a4e8649e20d51221",
      "max": 1,
      "min": 0,
      "orientation": "horizontal",
      "readout": true,
      "readout_format": "d",
      "step": 1,
      "style": "IPY_MODEL_faf9559b43be4b768df113158ccee0a9",
      "value": 0
     }
    },
    "7f0b228352574f7a807a42fadb63ea3c": {
     "model_module": "@jupyter-widgets/base",
     "model_module_version": "1.2.0",
     "model_name": "LayoutModel",
     "state": {
      "_model_module": "@jupyter-widgets/base",
      "_model_module_version": "1.2.0",
      "_model_name": "LayoutModel",
      "_view_count": null,
      "_view_module": "@jupyter-widgets/base",
      "_view_module_version": "1.2.0",
      "_view_name": "LayoutView",
      "align_content": null,
      "align_items": null,
      "align_self": null,
      "border": null,
      "bottom": null,
      "display": null,
      "flex": null,
      "flex_flow": null,
      "grid_area": null,
      "grid_auto_columns": null,
      "grid_auto_flow": null,
      "grid_auto_rows": null,
      "grid_column": null,
      "grid_gap": null,
      "grid_row": null,
      "grid_template_areas": null,
      "grid_template_columns": null,
      "grid_template_rows": null,
      "height": null,
      "justify_content": null,
      "justify_items": null,
      "left": null,
      "margin": null,
      "max_height": null,
      "max_width": null,
      "min_height": null,
      "min_width": null,
      "object_fit": null,
      "object_position": null,
      "order": null,
      "overflow": null,
      "overflow_x": null,
      "overflow_y": null,
      "padding": null,
      "right": null,
      "top": null,
      "visibility": null,
      "width": null
     }
    },
    "80ec09fecac249aab0327b5a45113043": {
     "model_module": "@jupyter-widgets/controls",
     "model_module_version": "1.5.0",
     "model_name": "DescriptionStyleModel",
     "state": {
      "_model_module": "@jupyter-widgets/controls",
      "_model_module_version": "1.5.0",
      "_model_name": "DescriptionStyleModel",
      "_view_count": null,
      "_view_module": "@jupyter-widgets/base",
      "_view_module_version": "1.2.0",
      "_view_name": "StyleView",
      "description_width": ""
     }
    },
    "85d3c33a36fd46789cb8b9a592bfdeaf": {
     "model_module": "@jupyter-widgets/controls",
     "model_module_version": "1.5.0",
     "model_name": "DropdownModel",
     "state": {
      "_dom_classes": [],
      "_model_module": "@jupyter-widgets/controls",
      "_model_module_version": "1.5.0",
      "_model_name": "DropdownModel",
      "_options_labels": [
       "Mumbai",
       "Banglore",
       "Hyderabad",
       "Kolkata",
       "Chennai",
       "Delhi"
      ],
      "_view_count": null,
      "_view_module": "@jupyter-widgets/controls",
      "_view_module_version": "1.5.0",
      "_view_name": "DropdownView",
      "description": "City",
      "description_tooltip": null,
      "disabled": false,
      "index": 1,
      "layout": "IPY_MODEL_e2230a6aba4146f3ab40bedd253a5fb9",
      "style": "IPY_MODEL_80ec09fecac249aab0327b5a45113043"
     }
    },
    "8f36b3e790fb42d5a1dd937a088c7187": {
     "model_module": "@jupyter-widgets/controls",
     "model_module_version": "1.5.0",
     "model_name": "IntSliderModel",
     "state": {
      "_dom_classes": [],
      "_model_module": "@jupyter-widgets/controls",
      "_model_module_version": "1.5.0",
      "_model_name": "IntSliderModel",
      "_view_count": null,
      "_view_module": "@jupyter-widgets/controls",
      "_view_module_version": "1.5.0",
      "_view_name": "IntSliderView",
      "continuous_update": true,
      "description": "Bedrooms",
      "description_tooltip": null,
      "disabled": false,
      "layout": "IPY_MODEL_eaff23b9638f4b09ad110610ab2d7033",
      "max": 6,
      "min": 1,
      "orientation": "horizontal",
      "readout": true,
      "readout_format": "d",
      "step": 1,
      "style": "IPY_MODEL_2c980f2e123248b986d6b0a899d562b2",
      "value": 4
     }
    },
    "90d67b5b9b434f04b5bb71bafa25c1bf": {
     "model_module": "@jupyter-widgets/controls",
     "model_module_version": "1.5.0",
     "model_name": "SliderStyleModel",
     "state": {
      "_model_module": "@jupyter-widgets/controls",
      "_model_module_version": "1.5.0",
      "_model_name": "SliderStyleModel",
      "_view_count": null,
      "_view_module": "@jupyter-widgets/base",
      "_view_module_version": "1.2.0",
      "_view_name": "StyleView",
      "description_width": "",
      "handle_color": null
     }
    },
    "9334a73ecefe49f1b4f4b6bc76f1829a": {
     "model_module": "@jupyter-widgets/base",
     "model_module_version": "1.2.0",
     "model_name": "LayoutModel",
     "state": {
      "_model_module": "@jupyter-widgets/base",
      "_model_module_version": "1.2.0",
      "_model_name": "LayoutModel",
      "_view_count": null,
      "_view_module": "@jupyter-widgets/base",
      "_view_module_version": "1.2.0",
      "_view_name": "LayoutView",
      "align_content": null,
      "align_items": null,
      "align_self": null,
      "border": null,
      "bottom": null,
      "display": null,
      "flex": null,
      "flex_flow": null,
      "grid_area": null,
      "grid_auto_columns": null,
      "grid_auto_flow": null,
      "grid_auto_rows": null,
      "grid_column": null,
      "grid_gap": null,
      "grid_row": null,
      "grid_template_areas": null,
      "grid_template_columns": null,
      "grid_template_rows": null,
      "height": null,
      "justify_content": null,
      "justify_items": null,
      "left": null,
      "margin": null,
      "max_height": null,
      "max_width": null,
      "min_height": null,
      "min_width": null,
      "object_fit": null,
      "object_position": null,
      "order": null,
      "overflow": null,
      "overflow_x": null,
      "overflow_y": null,
      "padding": null,
      "right": null,
      "top": null,
      "visibility": null,
      "width": null
     }
    },
    "a33bf541b1bd4dd3915a29be3282f1d9": {
     "model_module": "@jupyter-widgets/output",
     "model_module_version": "1.0.0",
     "model_name": "OutputModel",
     "state": {
      "_dom_classes": [],
      "_model_module": "@jupyter-widgets/output",
      "_model_module_version": "1.0.0",
      "_model_name": "OutputModel",
      "_view_count": null,
      "_view_module": "@jupyter-widgets/output",
      "_view_module_version": "1.0.0",
      "_view_name": "OutputView",
      "layout": "IPY_MODEL_7f0b228352574f7a807a42fadb63ea3c",
      "msg_id": "",
      "outputs": [
       {
        "name": "stdout",
        "output_type": "stream",
        "text": [
         "Price is ₹ 2700.0 Lakhs\n"
        ]
       },
       {
        "name": "stderr",
        "output_type": "stream",
        "text": [
         "/usr/local/lib/python3.7/dist-packages/sklearn/base.py:446: UserWarning:\n",
         "\n",
         "X does not have valid feature names, but Ridge was fitted with feature names\n",
         "\n"
        ]
       }
      ]
     }
    },
    "a52079763f6b494a9bc63f002fe3939f": {
     "model_module": "@jupyter-widgets/controls",
     "model_module_version": "1.5.0",
     "model_name": "DescriptionStyleModel",
     "state": {
      "_model_module": "@jupyter-widgets/controls",
      "_model_module_version": "1.5.0",
      "_model_name": "DescriptionStyleModel",
      "_view_count": null,
      "_view_module": "@jupyter-widgets/base",
      "_view_module_version": "1.2.0",
      "_view_name": "StyleView",
      "description_width": ""
     }
    },
    "b38ea11fe9ab44c191c044b47e4db57c": {
     "model_module": "@jupyter-widgets/controls",
     "model_module_version": "1.5.0",
     "model_name": "DropdownModel",
     "state": {
      "_dom_classes": [],
      "_model_module": "@jupyter-widgets/controls",
      "_model_module_version": "1.5.0",
      "_model_name": "DropdownModel",
      "_options_labels": [
       "Anagalapura Near Hennur Main Road",
       "Anjanapura",
       "Attibele",
       "BTM Layout",
       "Banashankari",
       "Begur",
       "Bellandur",
       "Bommanahalli",
       "Bommasandra",
       "Budigere Cross",
       "Carmelaram",
       "Devanahalli",
       "Doddanekundi",
       "Electronic City Phase 1",
       "Electronic City Phase 2",
       "Gottigere",
       "Harlur",
       "Hebbal",
       "Horamavu",
       "Hosa Road",
       "Hulimavu",
       "ITPL",
       "JP Nagar Phase 3",
       "JP Nagar Phase 4",
       "JP Nagar Phase 7",
       "JP Nagar Phase 8",
       "Jakkur",
       "Jalahalli",
       "Jigani",
       "Junnasandra",
       "KPC Layout",
       "Kadugodi",
       "Kanakapura Road Beyond Nice Ring Road",
       "Kannur on Thanisandra Main Road",
       "Kasavanahalli",
       "Konanakunte",
       "Koramangala",
       "Krishnarajapura",
       "Kudlu",
       "Kumaraswamy Layout",
       "Muneshwara Nagar",
       "Nagarbhavi",
       "Narayanapura on Hennur Main Road",
       "Nayandahalli",
       "Nelamangala",
       "RR Nagar",
       "Ramamurthy Nagar",
       "Sahakar Nagar",
       "Sarjapur",
       "Sarjapur Road Wipro To Railway Crossing",
       "Singasandra",
       "Talaghattapura",
       "Thanisandra",
       "Uttarahalli",
       "Varthur",
       "Whitefield Hope Farm Junction",
       "Yelahanka"
      ],
      "_view_count": null,
      "_view_module": "@jupyter-widgets/controls",
      "_view_module_version": "1.5.0",
      "_view_name": "DropdownView",
      "description": "location",
      "description_tooltip": null,
      "disabled": false,
      "index": 11,
      "layout": "IPY_MODEL_0d99518754f043f5a3a38fe33028fa10",
      "style": "IPY_MODEL_a52079763f6b494a9bc63f002fe3939f"
     }
    },
    "c5fddabcbdab48cc838e79a461c268de": {
     "model_module": "@jupyter-widgets/base",
     "model_module_version": "1.2.0",
     "model_name": "LayoutModel",
     "state": {
      "_model_module": "@jupyter-widgets/base",
      "_model_module_version": "1.2.0",
      "_model_name": "LayoutModel",
      "_view_count": null,
      "_view_module": "@jupyter-widgets/base",
      "_view_module_version": "1.2.0",
      "_view_name": "LayoutView",
      "align_content": null,
      "align_items": null,
      "align_self": null,
      "border": null,
      "bottom": null,
      "display": null,
      "flex": null,
      "flex_flow": null,
      "grid_area": null,
      "grid_auto_columns": null,
      "grid_auto_flow": null,
      "grid_auto_rows": null,
      "grid_column": null,
      "grid_gap": null,
      "grid_row": null,
      "grid_template_areas": null,
      "grid_template_columns": null,
      "grid_template_rows": null,
      "height": null,
      "justify_content": null,
      "justify_items": null,
      "left": null,
      "margin": null,
      "max_height": null,
      "max_width": null,
      "min_height": null,
      "min_width": null,
      "object_fit": null,
      "object_position": null,
      "order": null,
      "overflow": null,
      "overflow_x": null,
      "overflow_y": null,
      "padding": null,
      "right": null,
      "top": null,
      "visibility": null,
      "width": null
     }
    },
    "e2230a6aba4146f3ab40bedd253a5fb9": {
     "model_module": "@jupyter-widgets/base",
     "model_module_version": "1.2.0",
     "model_name": "LayoutModel",
     "state": {
      "_model_module": "@jupyter-widgets/base",
      "_model_module_version": "1.2.0",
      "_model_name": "LayoutModel",
      "_view_count": null,
      "_view_module": "@jupyter-widgets/base",
      "_view_module_version": "1.2.0",
      "_view_name": "LayoutView",
      "align_content": null,
      "align_items": null,
      "align_self": null,
      "border": null,
      "bottom": null,
      "display": null,
      "flex": null,
      "flex_flow": null,
      "grid_area": null,
      "grid_auto_columns": null,
      "grid_auto_flow": null,
      "grid_auto_rows": null,
      "grid_column": null,
      "grid_gap": null,
      "grid_row": null,
      "grid_template_areas": null,
      "grid_template_columns": null,
      "grid_template_rows": null,
      "height": null,
      "justify_content": null,
      "justify_items": null,
      "left": null,
      "margin": null,
      "max_height": null,
      "max_width": null,
      "min_height": null,
      "min_width": null,
      "object_fit": null,
      "object_position": null,
      "order": null,
      "overflow": null,
      "overflow_x": null,
      "overflow_y": null,
      "padding": null,
      "right": null,
      "top": null,
      "visibility": null,
      "width": null
     }
    },
    "e30027c9eaca43d9a4e8649e20d51221": {
     "model_module": "@jupyter-widgets/base",
     "model_module_version": "1.2.0",
     "model_name": "LayoutModel",
     "state": {
      "_model_module": "@jupyter-widgets/base",
      "_model_module_version": "1.2.0",
      "_model_name": "LayoutModel",
      "_view_count": null,
      "_view_module": "@jupyter-widgets/base",
      "_view_module_version": "1.2.0",
      "_view_name": "LayoutView",
      "align_content": null,
      "align_items": null,
      "align_self": null,
      "border": null,
      "bottom": null,
      "display": null,
      "flex": null,
      "flex_flow": null,
      "grid_area": null,
      "grid_auto_columns": null,
      "grid_auto_flow": null,
      "grid_auto_rows": null,
      "grid_column": null,
      "grid_gap": null,
      "grid_row": null,
      "grid_template_areas": null,
      "grid_template_columns": null,
      "grid_template_rows": null,
      "height": null,
      "justify_content": null,
      "justify_items": null,
      "left": null,
      "margin": null,
      "max_height": null,
      "max_width": null,
      "min_height": null,
      "min_width": null,
      "object_fit": null,
      "object_position": null,
      "order": null,
      "overflow": null,
      "overflow_x": null,
      "overflow_y": null,
      "padding": null,
      "right": null,
      "top": null,
      "visibility": null,
      "width": null
     }
    },
    "e92798229491451b830850ebd55b7e43": {
     "model_module": "@jupyter-widgets/controls",
     "model_module_version": "1.5.0",
     "model_name": "SliderStyleModel",
     "state": {
      "_model_module": "@jupyter-widgets/controls",
      "_model_module_version": "1.5.0",
      "_model_name": "SliderStyleModel",
      "_view_count": null,
      "_view_module": "@jupyter-widgets/base",
      "_view_module_version": "1.2.0",
      "_view_name": "StyleView",
      "description_width": "",
      "handle_color": null
     }
    },
    "eaff23b9638f4b09ad110610ab2d7033": {
     "model_module": "@jupyter-widgets/base",
     "model_module_version": "1.2.0",
     "model_name": "LayoutModel",
     "state": {
      "_model_module": "@jupyter-widgets/base",
      "_model_module_version": "1.2.0",
      "_model_name": "LayoutModel",
      "_view_count": null,
      "_view_module": "@jupyter-widgets/base",
      "_view_module_version": "1.2.0",
      "_view_name": "LayoutView",
      "align_content": null,
      "align_items": null,
      "align_self": null,
      "border": null,
      "bottom": null,
      "display": null,
      "flex": null,
      "flex_flow": null,
      "grid_area": null,
      "grid_auto_columns": null,
      "grid_auto_flow": null,
      "grid_auto_rows": null,
      "grid_column": null,
      "grid_gap": null,
      "grid_row": null,
      "grid_template_areas": null,
      "grid_template_columns": null,
      "grid_template_rows": null,
      "height": null,
      "justify_content": null,
      "justify_items": null,
      "left": null,
      "margin": null,
      "max_height": null,
      "max_width": null,
      "min_height": null,
      "min_width": null,
      "object_fit": null,
      "object_position": null,
      "order": null,
      "overflow": null,
      "overflow_x": null,
      "overflow_y": null,
      "padding": null,
      "right": null,
      "top": null,
      "visibility": null,
      "width": null
     }
    },
    "f9371016399747ceb1ebed9fad5c919d": {
     "model_module": "@jupyter-widgets/controls",
     "model_module_version": "1.5.0",
     "model_name": "IntSliderModel",
     "state": {
      "_dom_classes": [],
      "_model_module": "@jupyter-widgets/controls",
      "_model_module_version": "1.5.0",
      "_model_name": "IntSliderModel",
      "_view_count": null,
      "_view_module": "@jupyter-widgets/controls",
      "_view_module_version": "1.5.0",
      "_view_name": "IntSliderView",
      "continuous_update": true,
      "description": "Hospital",
      "description_tooltip": null,
      "disabled": false,
      "layout": "IPY_MODEL_9334a73ecefe49f1b4f4b6bc76f1829a",
      "max": 1,
      "min": 0,
      "orientation": "horizontal",
      "readout": true,
      "readout_format": "d",
      "step": 1,
      "style": "IPY_MODEL_e92798229491451b830850ebd55b7e43",
      "value": 0
     }
    },
    "faf9559b43be4b768df113158ccee0a9": {
     "model_module": "@jupyter-widgets/controls",
     "model_module_version": "1.5.0",
     "model_name": "SliderStyleModel",
     "state": {
      "_model_module": "@jupyter-widgets/controls",
      "_model_module_version": "1.5.0",
      "_model_name": "SliderStyleModel",
      "_view_count": null,
      "_view_module": "@jupyter-widgets/base",
      "_view_module_version": "1.2.0",
      "_view_name": "StyleView",
      "description_width": "",
      "handle_color": null
     }
    }
   }
  }
 },
 "nbformat": 4,
 "nbformat_minor": 1
}
